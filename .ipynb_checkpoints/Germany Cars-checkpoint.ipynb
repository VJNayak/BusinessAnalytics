{
 "cells": [
  {
   "cell_type": "code",
   "execution_count": 1,
   "id": "99f07e71",
   "metadata": {},
   "outputs": [],
   "source": [
    "#Importing data from a flat file (.csv)\n"
   ]
  },
  {
   "cell_type": "code",
   "execution_count": 11,
   "id": "db262342",
   "metadata": {},
   "outputs": [],
   "source": [
    "import pandas as pd\n",
    "import numpy as np\n",
    "unicorns=pd.read_csv(\"Unicorn_Companies.csv\",index_col=0)"
   ]
  },
  {
   "cell_type": "code",
   "execution_count": 3,
   "id": "de848031",
   "metadata": {},
   "outputs": [
    {
     "name": "stdout",
     "output_type": "stream",
     "text": [
      "           Valuation ($B) Date Joined        Country           City  \\\n",
      "Company                                                               \n",
      "Bytedance            $140    4/7/2017          China        Beijing   \n",
      "SpaceX             $100.3   12/1/2012  United States      Hawthorne   \n",
      "Stripe                $95   1/23/2014  United States  San Francisco   \n",
      "Klarna              $45.6  12/12/2011         Sweden      Stockholm   \n",
      "Epic Games            $42  10/26/2018  United States           Cary   \n",
      "\n",
      "                           Industry  \\\n",
      "Company                               \n",
      "Bytedance   Artificial intelligence   \n",
      "SpaceX                        Other   \n",
      "Stripe                      Fintech   \n",
      "Klarna                      Fintech   \n",
      "Epic Games                    Other   \n",
      "\n",
      "                                            Select Inverstors Founded Year  \\\n",
      "Company                                                                      \n",
      "Bytedance   Sequoia Capital China, SIG Asia Investments, S...         2012   \n",
      "SpaceX      Founders Fund, Draper Fisher Jurvetson, Rothen...         2002   \n",
      "Stripe            Khosla Ventures, LowercaseCapital, capitalG         2010   \n",
      "Klarna      Institutional Venture Partners, Sequoia Capita...         2005   \n",
      "Epic Games              Tencent Holdings, KKR, Smash Ventures         1991   \n",
      "\n",
      "           Total Raised Financial Stage Investors Count Deal Terms  \\\n",
      "Company                                                              \n",
      "Bytedance        $7.44B             IPO              28          8   \n",
      "SpaceX          $6.874B            None              29         12   \n",
      "Stripe          $2.901B           Asset              39         12   \n",
      "Klarna          $3.472B        Acquired              56         13   \n",
      "Epic Games      $4.377B        Acquired              25          5   \n",
      "\n",
      "           Portfolio Exits  \n",
      "Company                     \n",
      "Bytedance                5  \n",
      "SpaceX                None  \n",
      "Stripe                   1  \n",
      "Klarna                   1  \n",
      "Epic Games               2  \n"
     ]
    }
   ],
   "source": [
    "print(unicorns.head())\n"
   ]
  },
  {
   "cell_type": "code",
   "execution_count": 4,
   "id": "9cbec5e8",
   "metadata": {},
   "outputs": [
    {
     "ename": "TypeError",
     "evalue": "'tuple' object is not callable",
     "output_type": "error",
     "traceback": [
      "\u001b[1;31m---------------------------------------------------------------------------\u001b[0m",
      "\u001b[1;31mTypeError\u001b[0m                                 Traceback (most recent call last)",
      "\u001b[1;32m<ipython-input-4-0b22b679ee90>\u001b[0m in \u001b[0;36m<module>\u001b[1;34m\u001b[0m\n\u001b[1;32m----> 1\u001b[1;33m \u001b[0municorns\u001b[0m\u001b[1;33m.\u001b[0m\u001b[0mshape\u001b[0m\u001b[1;33m(\u001b[0m\u001b[1;33m)\u001b[0m\u001b[1;33m\u001b[0m\u001b[1;33m\u001b[0m\u001b[0m\n\u001b[0m",
      "\u001b[1;31mTypeError\u001b[0m: 'tuple' object is not callable"
     ]
    }
   ],
   "source": [
    "unicorns.shape()"
   ]
  },
  {
   "cell_type": "code",
   "execution_count": 5,
   "id": "a20b2375",
   "metadata": {},
   "outputs": [
    {
     "name": "stdout",
     "output_type": "stream",
     "text": [
      "(1037, 12)\n"
     ]
    }
   ],
   "source": [
    "print(unicorns.shape)"
   ]
  },
  {
   "cell_type": "code",
   "execution_count": 6,
   "id": "70fff556",
   "metadata": {},
   "outputs": [],
   "source": [
    "#Importing data from a flat file (.csv) Germany Car Dataset"
   ]
  },
  {
   "cell_type": "code",
   "execution_count": 7,
   "id": "a5772287",
   "metadata": {},
   "outputs": [],
   "source": [
    "GermanyCars=pd.read_csv(\"autoscout24-germany-car.csv\",index_col=0)"
   ]
  },
  {
   "cell_type": "code",
   "execution_count": 8,
   "id": "a89cf02b",
   "metadata": {},
   "outputs": [
    {
     "name": "stdout",
     "output_type": "stream",
     "text": [
      "               make   model      fuel    gear offerType  price     hp  year\n",
      "mileage                                                                    \n",
      "235000          BMW     316    Diesel  Manual      Used   6800  116.0  2011\n",
      "92800    Volkswagen    Golf  Gasoline  Manual      Used   6877  122.0  2011\n",
      "149300         SEAT    Exeo  Gasoline  Manual      Used   6900  160.0  2011\n",
      "96200       Renault  Megane  Gasoline  Manual      Used   6950  110.0  2011\n",
      "156000      Peugeot     308  Gasoline  Manual      Used   6950  156.0  2011\n"
     ]
    }
   ],
   "source": [
    "#Checking the top rows of the data to understand\n",
    "print(GermanyCars.head())"
   ]
  },
  {
   "cell_type": "code",
   "execution_count": 9,
   "id": "4f417ec5",
   "metadata": {},
   "outputs": [
    {
     "name": "stdout",
     "output_type": "stream",
     "text": [
      "(46405, 8)\n"
     ]
    }
   ],
   "source": [
    "# Checking the columns and rows of the data\n",
    "print(GermanyCars.shape)"
   ]
  },
  {
   "cell_type": "code",
   "execution_count": 10,
   "id": "fbdcdcee",
   "metadata": {},
   "outputs": [
    {
     "name": "stdout",
     "output_type": "stream",
     "text": [
      "make           0\n",
      "model        143\n",
      "fuel           0\n",
      "gear         182\n",
      "offerType      0\n",
      "price          0\n",
      "hp            29\n",
      "dtype: int64\n"
     ]
    }
   ],
   "source": [
    "# Counting missing values\n",
    "missing_values_count=GermanyCars.isnull().sum()\n",
    "print(missing_values_count[0:7])"
   ]
  },
  {
   "cell_type": "code",
   "execution_count": 12,
   "id": "7395f3d8",
   "metadata": {},
   "outputs": [
    {
     "ename": "NameError",
     "evalue": "name 'droprows' is not defined",
     "output_type": "error",
     "traceback": [
      "\u001b[1;31m---------------------------------------------------------------------------\u001b[0m",
      "\u001b[1;31mNameError\u001b[0m                                 Traceback (most recent call last)",
      "\u001b[1;32m<ipython-input-12-a22de151ff06>\u001b[0m in \u001b[0;36m<module>\u001b[1;34m\u001b[0m\n\u001b[0;32m      1\u001b[0m \u001b[1;31m##Dropping rows where Data is missing\u001b[0m\u001b[1;33m\u001b[0m\u001b[1;33m\u001b[0m\u001b[1;33m\u001b[0m\u001b[0m\n\u001b[0;32m      2\u001b[0m \u001b[0mGermanyCarsDR\u001b[0m\u001b[1;33m=\u001b[0m\u001b[0mGermanyCars\u001b[0m\u001b[1;33m.\u001b[0m\u001b[0mdropna\u001b[0m\u001b[1;33m(\u001b[0m\u001b[1;33m)\u001b[0m\u001b[1;33m\u001b[0m\u001b[1;33m\u001b[0m\u001b[0m\n\u001b[1;32m----> 3\u001b[1;33m \u001b[0mprint\u001b[0m\u001b[1;33m(\u001b[0m\u001b[0mGermanyCars\u001b[0m\u001b[1;33m.\u001b[0m\u001b[0mshape\u001b[0m\u001b[1;33m,\u001b[0m\u001b[0mdroprows\u001b[0m\u001b[1;33m.\u001b[0m\u001b[0mshape\u001b[0m\u001b[1;33m)\u001b[0m\u001b[1;33m\u001b[0m\u001b[1;33m\u001b[0m\u001b[0m\n\u001b[0m",
      "\u001b[1;31mNameError\u001b[0m: name 'droprows' is not defined"
     ]
    }
   ],
   "source": [
    "#Dropping rows where Data is missing \n",
    "GermanyCarsDR=GermanyCars.dropna()\n",
    "print(GermanyCars.shape,droprows.shape)"
   ]
  },
  {
   "cell_type": "code",
   "execution_count": 13,
   "id": "4861fe09",
   "metadata": {},
   "outputs": [
    {
     "name": "stdout",
     "output_type": "stream",
     "text": [
      "(46405, 8) (46071, 8)\n"
     ]
    }
   ],
   "source": [
    "GermanyCarsDR=GermanyCars.dropna()\n",
    "print(GermanyCars.shape,GermanyCarsDR.shape)"
   ]
  },
  {
   "cell_type": "code",
   "execution_count": 14,
   "id": "b31db1a7",
   "metadata": {},
   "outputs": [
    {
     "name": "stdout",
     "output_type": "stream",
     "text": [
      "(46071, 8)                make   model               fuel    gear       offerType  price  \\\n",
      "mileage                                                                         \n",
      "235000          BMW     316             Diesel  Manual            Used   6800   \n",
      "92800    Volkswagen    Golf           Gasoline  Manual            Used   6877   \n",
      "149300         SEAT    Exeo           Gasoline  Manual            Used   6900   \n",
      "96200       Renault  Megane           Gasoline  Manual            Used   6950   \n",
      "156000      Peugeot     308           Gasoline  Manual            Used   6950   \n",
      "...             ...     ...                ...     ...             ...    ...   \n",
      "10          Citroen      C1           Gasoline  Manual  Pre-registered  12340   \n",
      "99             Fiat     500  Electric/Gasoline  Manual  Pre-registered  12490   \n",
      "550            Fiat     500  Electric/Gasoline  Manual   Demonstration  12805   \n",
      "837            Fiat   Panda  Electric/Gasoline  Manual   Demonstration  12805   \n",
      "1500          Skoda   Fabia           Gasoline  Manual   Demonstration  12980   \n",
      "\n",
      "            hp  year  \n",
      "mileage               \n",
      "235000   116.0  2011  \n",
      "92800    122.0  2011  \n",
      "149300   160.0  2011  \n",
      "96200    110.0  2011  \n",
      "156000   156.0  2011  \n",
      "...        ...   ...  \n",
      "10        72.0  2021  \n",
      "99        71.0  2021  \n",
      "550       69.0  2021  \n",
      "837       69.0  2021  \n",
      "1500      60.0  2021  \n",
      "\n",
      "[41295 rows x 8 columns]\n"
     ]
    }
   ],
   "source": [
    "GermanyCars_drop_duplicates=GermanyCarsDR.drop_duplicates()\n",
    "print(GermanyCarsDR.shape,GermanyCars_drop_duplicates)"
   ]
  },
  {
   "cell_type": "code",
   "execution_count": 15,
   "id": "a99dc15c",
   "metadata": {},
   "outputs": [
    {
     "name": "stdout",
     "output_type": "stream",
     "text": [
      "              price            hp          year\n",
      "count  4.129500e+04  41295.000000  41295.000000\n",
      "mean   1.686909e+04    135.835307   2015.903305\n",
      "std    1.989230e+04     76.039887      3.122089\n",
      "min    1.100000e+03      1.000000   2011.000000\n",
      "25%    7.500000e+03     90.000000   2013.000000\n",
      "50%    1.125000e+04    120.000000   2016.000000\n",
      "75%    1.995000e+04    150.000000   2019.000000\n",
      "max    1.199900e+06    850.000000   2021.000000\n"
     ]
    }
   ],
   "source": [
    "print(GermanyCars_drop_duplicates.describe())"
   ]
  },
  {
   "cell_type": "code",
   "execution_count": 16,
   "id": "6dd86cc4",
   "metadata": {},
   "outputs": [
    {
     "name": "stdout",
     "output_type": "stream",
     "text": [
      "               make   model      fuel    gear offerType  price     hp  year\n",
      "mileage                                                                    \n",
      "235000          BMW     316    Diesel  Manual      Used   6800  116.0  2011\n",
      "92800    Volkswagen    Golf  Gasoline  Manual      Used   6877  122.0  2011\n",
      "149300         SEAT    Exeo  Gasoline  Manual      Used   6900  160.0  2011\n",
      "96200       Renault  Megane  Gasoline  Manual      Used   6950  110.0  2011\n",
      "156000      Peugeot     308  Gasoline  Manual      Used   6950  156.0  2011\n"
     ]
    }
   ],
   "source": [
    "print(GermanyCars_drop_duplicates.head())"
   ]
  },
  {
   "cell_type": "code",
   "execution_count": 17,
   "id": "cfd8df1b",
   "metadata": {},
   "outputs": [
    {
     "name": "stdout",
     "output_type": "stream",
     "text": [
      "<class 'pandas.core.frame.DataFrame'>\n",
      "Int64Index: 41295 entries, 235000 to 1500\n",
      "Data columns (total 8 columns):\n",
      " #   Column     Non-Null Count  Dtype  \n",
      "---  ------     --------------  -----  \n",
      " 0   make       41295 non-null  object \n",
      " 1   model      41295 non-null  object \n",
      " 2   fuel       41295 non-null  object \n",
      " 3   gear       41295 non-null  object \n",
      " 4   offerType  41295 non-null  object \n",
      " 5   price      41295 non-null  int64  \n",
      " 6   hp         41295 non-null  float64\n",
      " 7   year       41295 non-null  int64  \n",
      "dtypes: float64(1), int64(2), object(5)\n",
      "memory usage: 2.8+ MB\n",
      "None\n"
     ]
    }
   ],
   "source": [
    "print(GermanyCars_drop_duplicates.info())"
   ]
  },
  {
   "cell_type": "code",
   "execution_count": 20,
   "id": "1945b90e",
   "metadata": {},
   "outputs": [
    {
     "name": "stdout",
     "output_type": "stream",
     "text": [
      "               make   model      fuel    gear offerType  price     hp  year\n",
      "mileage                                                                    \n",
      "235000          BMW     316    Diesel  Manual      Used   6800  116.0  2011\n",
      "92800    Volkswagen    Golf  Gasoline  Manual      Used   6877  122.0  2011\n",
      "149300         SEAT    Exeo  Gasoline  Manual      Used   6900  160.0  2011\n",
      "96200       Renault  Megane  Gasoline  Manual      Used   6950  110.0  2011\n",
      "156000      Peugeot     308  Gasoline  Manual      Used   6950  156.0  2011\n"
     ]
    }
   ],
   "source": [
    "print(GermanyCars_drop_duplicates.head())"
   ]
  },
  {
   "cell_type": "code",
   "execution_count": 21,
   "id": "a9ee62e9",
   "metadata": {},
   "outputs": [
    {
     "data": {
      "text/plain": [
       "<pandas.core.groupby.generic.DataFrameGroupBy object at 0x000002462402A6D0>"
      ]
     },
     "execution_count": 21,
     "metadata": {},
     "output_type": "execute_result"
    }
   ],
   "source": [
    "GermanyCars_drop_duplicates.groupby(['make','model','mileage'])\n"
   ]
  },
  {
   "cell_type": "code",
   "execution_count": 22,
   "id": "d13a116d",
   "metadata": {},
   "outputs": [
    {
     "ename": "ValueError",
     "evalue": "The truth value of a Series is ambiguous. Use a.empty, a.bool(), a.item(), a.any() or a.all().",
     "output_type": "error",
     "traceback": [
      "\u001b[1;31m---------------------------------------------------------------------------\u001b[0m",
      "\u001b[1;31mValueError\u001b[0m                                Traceback (most recent call last)",
      "\u001b[1;32m<ipython-input-22-e3c34aba5681>\u001b[0m in \u001b[0;36m<module>\u001b[1;34m\u001b[0m\n\u001b[1;32m----> 1\u001b[1;33m \u001b[0mGermanyCars_drop_duplicates\u001b[0m\u001b[1;33m.\u001b[0m\u001b[0mgroupby\u001b[0m\u001b[1;33m(\u001b[0m\u001b[1;33m[\u001b[0m\u001b[1;34m'make'\u001b[0m\u001b[1;33m,\u001b[0m\u001b[1;34m'model'\u001b[0m\u001b[1;33m,\u001b[0m\u001b[1;34m'mileage'\u001b[0m\u001b[1;33m]\u001b[0m\u001b[1;33m)\u001b[0m\u001b[1;33m.\u001b[0m\u001b[0mmean\u001b[0m\u001b[1;33m(\u001b[0m\u001b[0mGermanyCars_drop_duplicates\u001b[0m\u001b[1;33m[\u001b[0m\u001b[1;34m\"price\"\u001b[0m\u001b[1;33m]\u001b[0m\u001b[1;33m)\u001b[0m\u001b[1;33m\u001b[0m\u001b[1;33m\u001b[0m\u001b[0m\n\u001b[0m",
      "\u001b[1;32m~\\Anaconda3\\lib\\site-packages\\pandas\\core\\groupby\\groupby.py\u001b[0m in \u001b[0;36mmean\u001b[1;34m(self, numeric_only)\u001b[0m\n\u001b[0;32m   1494\u001b[0m         \u001b[0mName\u001b[0m\u001b[1;33m:\u001b[0m \u001b[0mB\u001b[0m\u001b[1;33m,\u001b[0m \u001b[0mdtype\u001b[0m\u001b[1;33m:\u001b[0m \u001b[0mfloat64\u001b[0m\u001b[1;33m\u001b[0m\u001b[1;33m\u001b[0m\u001b[0m\n\u001b[0;32m   1495\u001b[0m         \"\"\"\n\u001b[1;32m-> 1496\u001b[1;33m         return self._cython_agg_general(\n\u001b[0m\u001b[0;32m   1497\u001b[0m             \u001b[1;34m\"mean\"\u001b[0m\u001b[1;33m,\u001b[0m\u001b[1;33m\u001b[0m\u001b[1;33m\u001b[0m\u001b[0m\n\u001b[0;32m   1498\u001b[0m             \u001b[0malt\u001b[0m\u001b[1;33m=\u001b[0m\u001b[1;32mlambda\u001b[0m \u001b[0mx\u001b[0m\u001b[1;33m,\u001b[0m \u001b[0maxis\u001b[0m\u001b[1;33m:\u001b[0m \u001b[0mSeries\u001b[0m\u001b[1;33m(\u001b[0m\u001b[0mx\u001b[0m\u001b[1;33m)\u001b[0m\u001b[1;33m.\u001b[0m\u001b[0mmean\u001b[0m\u001b[1;33m(\u001b[0m\u001b[0mnumeric_only\u001b[0m\u001b[1;33m=\u001b[0m\u001b[0mnumeric_only\u001b[0m\u001b[1;33m)\u001b[0m\u001b[1;33m,\u001b[0m\u001b[1;33m\u001b[0m\u001b[1;33m\u001b[0m\u001b[0m\n",
      "\u001b[1;32m~\\Anaconda3\\lib\\site-packages\\pandas\\core\\groupby\\generic.py\u001b[0m in \u001b[0;36m_cython_agg_general\u001b[1;34m(self, how, alt, numeric_only, min_count)\u001b[0m\n\u001b[0;32m   1013\u001b[0m         \u001b[0mself\u001b[0m\u001b[1;33m,\u001b[0m \u001b[0mhow\u001b[0m\u001b[1;33m:\u001b[0m \u001b[0mstr\u001b[0m\u001b[1;33m,\u001b[0m \u001b[0malt\u001b[0m\u001b[1;33m=\u001b[0m\u001b[1;32mNone\u001b[0m\u001b[1;33m,\u001b[0m \u001b[0mnumeric_only\u001b[0m\u001b[1;33m:\u001b[0m \u001b[0mbool\u001b[0m \u001b[1;33m=\u001b[0m \u001b[1;32mTrue\u001b[0m\u001b[1;33m,\u001b[0m \u001b[0mmin_count\u001b[0m\u001b[1;33m:\u001b[0m \u001b[0mint\u001b[0m \u001b[1;33m=\u001b[0m \u001b[1;33m-\u001b[0m\u001b[1;36m1\u001b[0m\u001b[1;33m\u001b[0m\u001b[1;33m\u001b[0m\u001b[0m\n\u001b[0;32m   1014\u001b[0m     ) -> DataFrame:\n\u001b[1;32m-> 1015\u001b[1;33m         agg_mgr = self._cython_agg_blocks(\n\u001b[0m\u001b[0;32m   1016\u001b[0m             \u001b[0mhow\u001b[0m\u001b[1;33m,\u001b[0m \u001b[0malt\u001b[0m\u001b[1;33m=\u001b[0m\u001b[0malt\u001b[0m\u001b[1;33m,\u001b[0m \u001b[0mnumeric_only\u001b[0m\u001b[1;33m=\u001b[0m\u001b[0mnumeric_only\u001b[0m\u001b[1;33m,\u001b[0m \u001b[0mmin_count\u001b[0m\u001b[1;33m=\u001b[0m\u001b[0mmin_count\u001b[0m\u001b[1;33m\u001b[0m\u001b[1;33m\u001b[0m\u001b[0m\n\u001b[0;32m   1017\u001b[0m         )\n",
      "\u001b[1;32m~\\Anaconda3\\lib\\site-packages\\pandas\\core\\groupby\\generic.py\u001b[0m in \u001b[0;36m_cython_agg_blocks\u001b[1;34m(self, how, alt, numeric_only, min_count)\u001b[0m\n\u001b[0;32m   1024\u001b[0m         \u001b[0mdata\u001b[0m\u001b[1;33m:\u001b[0m \u001b[0mBlockManager\u001b[0m \u001b[1;33m=\u001b[0m \u001b[0mself\u001b[0m\u001b[1;33m.\u001b[0m\u001b[0m_get_data_to_aggregate\u001b[0m\u001b[1;33m(\u001b[0m\u001b[1;33m)\u001b[0m\u001b[1;33m\u001b[0m\u001b[1;33m\u001b[0m\u001b[0m\n\u001b[0;32m   1025\u001b[0m \u001b[1;33m\u001b[0m\u001b[0m\n\u001b[1;32m-> 1026\u001b[1;33m         \u001b[1;32mif\u001b[0m \u001b[0mnumeric_only\u001b[0m\u001b[1;33m:\u001b[0m\u001b[1;33m\u001b[0m\u001b[1;33m\u001b[0m\u001b[0m\n\u001b[0m\u001b[0;32m   1027\u001b[0m             \u001b[0mdata\u001b[0m \u001b[1;33m=\u001b[0m \u001b[0mdata\u001b[0m\u001b[1;33m.\u001b[0m\u001b[0mget_numeric_data\u001b[0m\u001b[1;33m(\u001b[0m\u001b[0mcopy\u001b[0m\u001b[1;33m=\u001b[0m\u001b[1;32mFalse\u001b[0m\u001b[1;33m)\u001b[0m\u001b[1;33m\u001b[0m\u001b[1;33m\u001b[0m\u001b[0m\n\u001b[0;32m   1028\u001b[0m \u001b[1;33m\u001b[0m\u001b[0m\n",
      "\u001b[1;32m~\\Anaconda3\\lib\\site-packages\\pandas\\core\\generic.py\u001b[0m in \u001b[0;36m__nonzero__\u001b[1;34m(self)\u001b[0m\n\u001b[0;32m   1440\u001b[0m     \u001b[1;33m@\u001b[0m\u001b[0mfinal\u001b[0m\u001b[1;33m\u001b[0m\u001b[1;33m\u001b[0m\u001b[0m\n\u001b[0;32m   1441\u001b[0m     \u001b[1;32mdef\u001b[0m \u001b[0m__nonzero__\u001b[0m\u001b[1;33m(\u001b[0m\u001b[0mself\u001b[0m\u001b[1;33m)\u001b[0m\u001b[1;33m:\u001b[0m\u001b[1;33m\u001b[0m\u001b[1;33m\u001b[0m\u001b[0m\n\u001b[1;32m-> 1442\u001b[1;33m         raise ValueError(\n\u001b[0m\u001b[0;32m   1443\u001b[0m             \u001b[1;34mf\"The truth value of a {type(self).__name__} is ambiguous. \"\u001b[0m\u001b[1;33m\u001b[0m\u001b[1;33m\u001b[0m\u001b[0m\n\u001b[0;32m   1444\u001b[0m             \u001b[1;34m\"Use a.empty, a.bool(), a.item(), a.any() or a.all().\"\u001b[0m\u001b[1;33m\u001b[0m\u001b[1;33m\u001b[0m\u001b[0m\n",
      "\u001b[1;31mValueError\u001b[0m: The truth value of a Series is ambiguous. Use a.empty, a.bool(), a.item(), a.any() or a.all()."
     ]
    }
   ],
   "source": [
    "GermanyCars_drop_duplicates.groupby(['make','model','mileage']).mean(GermanyCars_drop_duplicates[\"price\"])"
   ]
  },
  {
   "cell_type": "code",
   "execution_count": 23,
   "id": "068f06c9",
   "metadata": {},
   "outputs": [
    {
     "data": {
      "text/html": [
       "<div>\n",
       "<style scoped>\n",
       "    .dataframe tbody tr th:only-of-type {\n",
       "        vertical-align: middle;\n",
       "    }\n",
       "\n",
       "    .dataframe tbody tr th {\n",
       "        vertical-align: top;\n",
       "    }\n",
       "\n",
       "    .dataframe thead th {\n",
       "        text-align: right;\n",
       "    }\n",
       "</style>\n",
       "<table border=\"1\" class=\"dataframe\">\n",
       "  <thead>\n",
       "    <tr style=\"text-align: right;\">\n",
       "      <th></th>\n",
       "      <th></th>\n",
       "      <th></th>\n",
       "      <th>price</th>\n",
       "      <th>hp</th>\n",
       "      <th>year</th>\n",
       "    </tr>\n",
       "    <tr>\n",
       "      <th>make</th>\n",
       "      <th>model</th>\n",
       "      <th>mileage</th>\n",
       "      <th></th>\n",
       "      <th></th>\n",
       "      <th></th>\n",
       "    </tr>\n",
       "  </thead>\n",
       "  <tbody>\n",
       "    <tr>\n",
       "      <th rowspan=\"5\" valign=\"top\">Abarth</th>\n",
       "      <th rowspan=\"5\" valign=\"top\">500</th>\n",
       "      <th>5</th>\n",
       "      <td>24480.0</td>\n",
       "      <td>179.0</td>\n",
       "      <td>2020.0</td>\n",
       "    </tr>\n",
       "    <tr>\n",
       "      <th>10</th>\n",
       "      <td>27545.5</td>\n",
       "      <td>169.5</td>\n",
       "      <td>2020.0</td>\n",
       "    </tr>\n",
       "    <tr>\n",
       "      <th>2990</th>\n",
       "      <td>24980.0</td>\n",
       "      <td>165.0</td>\n",
       "      <td>2021.0</td>\n",
       "    </tr>\n",
       "    <tr>\n",
       "      <th>21500</th>\n",
       "      <td>11850.0</td>\n",
       "      <td>160.0</td>\n",
       "      <td>2015.0</td>\n",
       "    </tr>\n",
       "    <tr>\n",
       "      <th>33000</th>\n",
       "      <td>12990.0</td>\n",
       "      <td>140.0</td>\n",
       "      <td>2016.0</td>\n",
       "    </tr>\n",
       "    <tr>\n",
       "      <th>...</th>\n",
       "      <th>...</th>\n",
       "      <th>...</th>\n",
       "      <td>...</td>\n",
       "      <td>...</td>\n",
       "      <td>...</td>\n",
       "    </tr>\n",
       "    <tr>\n",
       "      <th rowspan=\"5\" valign=\"top\">smart</th>\n",
       "      <th rowspan=\"5\" valign=\"top\">forTwo</th>\n",
       "      <th>162000</th>\n",
       "      <td>3590.0</td>\n",
       "      <td>71.0</td>\n",
       "      <td>2012.0</td>\n",
       "    </tr>\n",
       "    <tr>\n",
       "      <th>165000</th>\n",
       "      <td>3990.0</td>\n",
       "      <td>54.0</td>\n",
       "      <td>2011.0</td>\n",
       "    </tr>\n",
       "    <tr>\n",
       "      <th>171000</th>\n",
       "      <td>2300.0</td>\n",
       "      <td>61.0</td>\n",
       "      <td>2011.0</td>\n",
       "    </tr>\n",
       "    <tr>\n",
       "      <th>177500</th>\n",
       "      <td>3499.0</td>\n",
       "      <td>84.0</td>\n",
       "      <td>2013.0</td>\n",
       "    </tr>\n",
       "    <tr>\n",
       "      <th>245000</th>\n",
       "      <td>3999.0</td>\n",
       "      <td>54.0</td>\n",
       "      <td>2012.0</td>\n",
       "    </tr>\n",
       "  </tbody>\n",
       "</table>\n",
       "<p>36435 rows × 3 columns</p>\n",
       "</div>"
      ],
      "text/plain": [
       "                         price     hp    year\n",
       "make   model  mileage                        \n",
       "Abarth 500    5        24480.0  179.0  2020.0\n",
       "              10       27545.5  169.5  2020.0\n",
       "              2990     24980.0  165.0  2021.0\n",
       "              21500    11850.0  160.0  2015.0\n",
       "              33000    12990.0  140.0  2016.0\n",
       "...                        ...    ...     ...\n",
       "smart  forTwo 162000    3590.0   71.0  2012.0\n",
       "              165000    3990.0   54.0  2011.0\n",
       "              171000    2300.0   61.0  2011.0\n",
       "              177500    3499.0   84.0  2013.0\n",
       "              245000    3999.0   54.0  2012.0\n",
       "\n",
       "[36435 rows x 3 columns]"
      ]
     },
     "execution_count": 23,
     "metadata": {},
     "output_type": "execute_result"
    }
   ],
   "source": [
    "GermanyCars_drop_duplicates.groupby(['make','model','mileage']).mean()"
   ]
  },
  {
   "cell_type": "code",
   "execution_count": 25,
   "id": "703c229b",
   "metadata": {},
   "outputs": [],
   "source": [
    "import matplotlib.pyplot as plt\n",
    "import seaborn as sns"
   ]
  },
  {
   "cell_type": "code",
   "execution_count": 26,
   "id": "1cabdd51",
   "metadata": {},
   "outputs": [
    {
     "ename": "TypeError",
     "evalue": "'DataFrame' object is not callable",
     "output_type": "error",
     "traceback": [
      "\u001b[1;31m---------------------------------------------------------------------------\u001b[0m",
      "\u001b[1;31mTypeError\u001b[0m                                 Traceback (most recent call last)",
      "\u001b[1;32m<ipython-input-26-624b13d50a6f>\u001b[0m in \u001b[0;36m<module>\u001b[1;34m\u001b[0m\n\u001b[0;32m      1\u001b[0m \u001b[1;31m#Sorting and SUbsetting the DF\u001b[0m\u001b[1;33m\u001b[0m\u001b[1;33m\u001b[0m\u001b[1;33m\u001b[0m\u001b[0m\n\u001b[1;32m----> 2\u001b[1;33m \u001b[0mGermanyCars_drop_duplicates\u001b[0m\u001b[1;33m(\u001b[0m\u001b[1;33m[\u001b[0m\u001b[1;34m\"make\"\u001b[0m\u001b[1;33m,\u001b[0m\u001b[1;34m\"price\"\u001b[0m\u001b[1;33m]\u001b[0m\u001b[1;33m,\u001b[0m\u001b[0mascending\u001b[0m\u001b[1;33m=\u001b[0m\u001b[1;33m[\u001b[0m\u001b[1;32mTrue\u001b[0m\u001b[1;33m,\u001b[0m\u001b[1;32mFalse\u001b[0m\u001b[1;33m]\u001b[0m\u001b[1;33m)\u001b[0m\u001b[1;33m\u001b[0m\u001b[1;33m\u001b[0m\u001b[0m\n\u001b[0m",
      "\u001b[1;31mTypeError\u001b[0m: 'DataFrame' object is not callable"
     ]
    }
   ],
   "source": [
    "#Sorting and SUbsetting the DF\n",
    "GermanyCars_drop_duplicates([\"make\",\"price\"],ascending=[True,False])"
   ]
  },
  {
   "cell_type": "code",
   "execution_count": 27,
   "id": "e9412419",
   "metadata": {},
   "outputs": [
    {
     "ename": "TypeError",
     "evalue": "'DataFrame' object is not callable",
     "output_type": "error",
     "traceback": [
      "\u001b[1;31m---------------------------------------------------------------------------\u001b[0m",
      "\u001b[1;31mTypeError\u001b[0m                                 Traceback (most recent call last)",
      "\u001b[1;32m<ipython-input-27-2cb68e1e6522>\u001b[0m in \u001b[0;36m<module>\u001b[1;34m\u001b[0m\n\u001b[1;32m----> 1\u001b[1;33m \u001b[0mGermanyCars_drop_duplicates\u001b[0m\u001b[1;33m(\u001b[0m\u001b[1;33m[\u001b[0m\u001b[1;34m\"make\"\u001b[0m\u001b[1;33m,\u001b[0m\u001b[1;34m\"price\"\u001b[0m\u001b[1;33m]\u001b[0m\u001b[1;33m)\u001b[0m\u001b[1;33m\u001b[0m\u001b[1;33m\u001b[0m\u001b[0m\n\u001b[0m",
      "\u001b[1;31mTypeError\u001b[0m: 'DataFrame' object is not callable"
     ]
    }
   ],
   "source": [
    "GermanyCars_drop_duplicates([\"make\",\"price\"])"
   ]
  },
  {
   "cell_type": "code",
   "execution_count": 28,
   "id": "4ca86a5f",
   "metadata": {},
   "outputs": [
    {
     "data": {
      "text/html": [
       "<div>\n",
       "<style scoped>\n",
       "    .dataframe tbody tr th:only-of-type {\n",
       "        vertical-align: middle;\n",
       "    }\n",
       "\n",
       "    .dataframe tbody tr th {\n",
       "        vertical-align: top;\n",
       "    }\n",
       "\n",
       "    .dataframe thead th {\n",
       "        text-align: right;\n",
       "    }\n",
       "</style>\n",
       "<table border=\"1\" class=\"dataframe\">\n",
       "  <thead>\n",
       "    <tr style=\"text-align: right;\">\n",
       "      <th></th>\n",
       "      <th>make</th>\n",
       "      <th>model</th>\n",
       "      <th>fuel</th>\n",
       "      <th>gear</th>\n",
       "      <th>offerType</th>\n",
       "      <th>price</th>\n",
       "      <th>hp</th>\n",
       "      <th>year</th>\n",
       "    </tr>\n",
       "    <tr>\n",
       "      <th>mileage</th>\n",
       "      <th></th>\n",
       "      <th></th>\n",
       "      <th></th>\n",
       "      <th></th>\n",
       "      <th></th>\n",
       "      <th></th>\n",
       "      <th></th>\n",
       "      <th></th>\n",
       "    </tr>\n",
       "  </thead>\n",
       "  <tbody>\n",
       "    <tr>\n",
       "      <th>10</th>\n",
       "      <td>Abarth</td>\n",
       "      <td>500</td>\n",
       "      <td>Gasoline</td>\n",
       "      <td>Manual</td>\n",
       "      <td>Used</td>\n",
       "      <td>35301</td>\n",
       "      <td>179.0</td>\n",
       "      <td>2021</td>\n",
       "    </tr>\n",
       "    <tr>\n",
       "      <th>99</th>\n",
       "      <td>Abarth</td>\n",
       "      <td>695</td>\n",
       "      <td>Gasoline</td>\n",
       "      <td>Manual</td>\n",
       "      <td>Pre-registered</td>\n",
       "      <td>30990</td>\n",
       "      <td>179.0</td>\n",
       "      <td>2021</td>\n",
       "    </tr>\n",
       "    <tr>\n",
       "      <th>5</th>\n",
       "      <td>Abarth</td>\n",
       "      <td>595C</td>\n",
       "      <td>Gasoline</td>\n",
       "      <td>Automatic</td>\n",
       "      <td>Pre-registered</td>\n",
       "      <td>29990</td>\n",
       "      <td>165.0</td>\n",
       "      <td>2021</td>\n",
       "    </tr>\n",
       "    <tr>\n",
       "      <th>0</th>\n",
       "      <td>Abarth</td>\n",
       "      <td>595C</td>\n",
       "      <td>Gasoline</td>\n",
       "      <td>Automatic</td>\n",
       "      <td>Pre-registered</td>\n",
       "      <td>27790</td>\n",
       "      <td>179.0</td>\n",
       "      <td>2020</td>\n",
       "    </tr>\n",
       "    <tr>\n",
       "      <th>0</th>\n",
       "      <td>Abarth</td>\n",
       "      <td>595C</td>\n",
       "      <td>Gasoline</td>\n",
       "      <td>Manual</td>\n",
       "      <td>Demonstration</td>\n",
       "      <td>27290</td>\n",
       "      <td>179.0</td>\n",
       "      <td>2021</td>\n",
       "    </tr>\n",
       "    <tr>\n",
       "      <th>...</th>\n",
       "      <td>...</td>\n",
       "      <td>...</td>\n",
       "      <td>...</td>\n",
       "      <td>...</td>\n",
       "      <td>...</td>\n",
       "      <td>...</td>\n",
       "      <td>...</td>\n",
       "      <td>...</td>\n",
       "    </tr>\n",
       "    <tr>\n",
       "      <th>159468</th>\n",
       "      <td>smart</td>\n",
       "      <td>forTwo</td>\n",
       "      <td>Gasoline</td>\n",
       "      <td>Automatic</td>\n",
       "      <td>Used</td>\n",
       "      <td>2990</td>\n",
       "      <td>61.0</td>\n",
       "      <td>2011</td>\n",
       "    </tr>\n",
       "    <tr>\n",
       "      <th>148000</th>\n",
       "      <td>smart</td>\n",
       "      <td>forTwo</td>\n",
       "      <td>Gasoline</td>\n",
       "      <td>Semi-automatic</td>\n",
       "      <td>Used</td>\n",
       "      <td>2940</td>\n",
       "      <td>61.0</td>\n",
       "      <td>2011</td>\n",
       "    </tr>\n",
       "    <tr>\n",
       "      <th>136000</th>\n",
       "      <td>smart</td>\n",
       "      <td>forTwo</td>\n",
       "      <td>Diesel</td>\n",
       "      <td>Manual</td>\n",
       "      <td>Used</td>\n",
       "      <td>2500</td>\n",
       "      <td>54.0</td>\n",
       "      <td>2013</td>\n",
       "    </tr>\n",
       "    <tr>\n",
       "      <th>171000</th>\n",
       "      <td>smart</td>\n",
       "      <td>forTwo</td>\n",
       "      <td>Gasoline</td>\n",
       "      <td>Manual</td>\n",
       "      <td>Used</td>\n",
       "      <td>2300</td>\n",
       "      <td>61.0</td>\n",
       "      <td>2011</td>\n",
       "    </tr>\n",
       "    <tr>\n",
       "      <th>140000</th>\n",
       "      <td>smart</td>\n",
       "      <td>forTwo</td>\n",
       "      <td>Diesel</td>\n",
       "      <td>Manual</td>\n",
       "      <td>Used</td>\n",
       "      <td>1500</td>\n",
       "      <td>54.0</td>\n",
       "      <td>2014</td>\n",
       "    </tr>\n",
       "  </tbody>\n",
       "</table>\n",
       "<p>41295 rows × 8 columns</p>\n",
       "</div>"
      ],
      "text/plain": [
       "           make   model      fuel            gear       offerType  price  \\\n",
       "mileage                                                                    \n",
       "10       Abarth     500  Gasoline          Manual            Used  35301   \n",
       "99       Abarth     695  Gasoline          Manual  Pre-registered  30990   \n",
       "5        Abarth    595C  Gasoline       Automatic  Pre-registered  29990   \n",
       "0        Abarth    595C  Gasoline       Automatic  Pre-registered  27790   \n",
       "0        Abarth    595C  Gasoline          Manual   Demonstration  27290   \n",
       "...         ...     ...       ...             ...             ...    ...   \n",
       "159468    smart  forTwo  Gasoline       Automatic            Used   2990   \n",
       "148000    smart  forTwo  Gasoline  Semi-automatic            Used   2940   \n",
       "136000    smart  forTwo    Diesel          Manual            Used   2500   \n",
       "171000    smart  forTwo  Gasoline          Manual            Used   2300   \n",
       "140000    smart  forTwo    Diesel          Manual            Used   1500   \n",
       "\n",
       "            hp  year  \n",
       "mileage               \n",
       "10       179.0  2021  \n",
       "99       179.0  2021  \n",
       "5        165.0  2021  \n",
       "0        179.0  2020  \n",
       "0        179.0  2021  \n",
       "...        ...   ...  \n",
       "159468    61.0  2011  \n",
       "148000    61.0  2011  \n",
       "136000    54.0  2013  \n",
       "171000    61.0  2011  \n",
       "140000    54.0  2014  \n",
       "\n",
       "[41295 rows x 8 columns]"
      ]
     },
     "execution_count": 28,
     "metadata": {},
     "output_type": "execute_result"
    }
   ],
   "source": [
    "GermanyCars_drop_duplicates.sort_values([\"make\",\"price\"],ascending=[True,False])"
   ]
  },
  {
   "cell_type": "code",
   "execution_count": 29,
   "id": "2a8e0b96",
   "metadata": {},
   "outputs": [
    {
     "ename": "ValueError",
     "evalue": "Length of ascending (3) != length of by (2)",
     "output_type": "error",
     "traceback": [
      "\u001b[1;31m---------------------------------------------------------------------------\u001b[0m",
      "\u001b[1;31mValueError\u001b[0m                                Traceback (most recent call last)",
      "\u001b[1;32m<ipython-input-29-f0ab3f262083>\u001b[0m in \u001b[0;36m<module>\u001b[1;34m\u001b[0m\n\u001b[1;32m----> 1\u001b[1;33m \u001b[0mGermanyCars_drop_duplicates\u001b[0m\u001b[1;33m.\u001b[0m\u001b[0msort_values\u001b[0m\u001b[1;33m(\u001b[0m\u001b[1;33m[\u001b[0m\u001b[1;34m\"make\"\u001b[0m\u001b[1;33m,\u001b[0m\u001b[1;34m\"mileage,\"\u001b[0m\u001b[1;34m\"price\"\u001b[0m\u001b[1;33m]\u001b[0m\u001b[1;33m,\u001b[0m\u001b[0mascending\u001b[0m\u001b[1;33m=\u001b[0m\u001b[1;33m[\u001b[0m\u001b[1;32mTrue\u001b[0m\u001b[1;33m,\u001b[0m\u001b[1;32mFalse\u001b[0m\u001b[1;33m,\u001b[0m\u001b[1;32mFalse\u001b[0m\u001b[1;33m]\u001b[0m\u001b[1;33m)\u001b[0m\u001b[1;33m\u001b[0m\u001b[1;33m\u001b[0m\u001b[0m\n\u001b[0m",
      "\u001b[1;32m~\\Anaconda3\\lib\\site-packages\\pandas\\core\\frame.py\u001b[0m in \u001b[0;36msort_values\u001b[1;34m(self, by, axis, ascending, inplace, kind, na_position, ignore_index, key)\u001b[0m\n\u001b[0;32m   5435\u001b[0m             \u001b[0mby\u001b[0m \u001b[1;33m=\u001b[0m \u001b[1;33m[\u001b[0m\u001b[0mby\u001b[0m\u001b[1;33m]\u001b[0m\u001b[1;33m\u001b[0m\u001b[1;33m\u001b[0m\u001b[0m\n\u001b[0;32m   5436\u001b[0m         \u001b[1;32mif\u001b[0m \u001b[0mis_sequence\u001b[0m\u001b[1;33m(\u001b[0m\u001b[0mascending\u001b[0m\u001b[1;33m)\u001b[0m \u001b[1;32mand\u001b[0m \u001b[0mlen\u001b[0m\u001b[1;33m(\u001b[0m\u001b[0mby\u001b[0m\u001b[1;33m)\u001b[0m \u001b[1;33m!=\u001b[0m \u001b[0mlen\u001b[0m\u001b[1;33m(\u001b[0m\u001b[0mascending\u001b[0m\u001b[1;33m)\u001b[0m\u001b[1;33m:\u001b[0m\u001b[1;33m\u001b[0m\u001b[1;33m\u001b[0m\u001b[0m\n\u001b[1;32m-> 5437\u001b[1;33m             raise ValueError(\n\u001b[0m\u001b[0;32m   5438\u001b[0m                 \u001b[1;34mf\"Length of ascending ({len(ascending)}) != length of by ({len(by)})\"\u001b[0m\u001b[1;33m\u001b[0m\u001b[1;33m\u001b[0m\u001b[0m\n\u001b[0;32m   5439\u001b[0m             )\n",
      "\u001b[1;31mValueError\u001b[0m: Length of ascending (3) != length of by (2)"
     ]
    }
   ],
   "source": [
    "GermanyCars_drop_duplicates.sort_values([\"make\",\"mileage,\"\"price\"],ascending=[True,False,False])"
   ]
  },
  {
   "cell_type": "code",
   "execution_count": 30,
   "id": "731e955a",
   "metadata": {},
   "outputs": [
    {
     "ename": "NameError",
     "evalue": "name 'ascending' is not defined",
     "output_type": "error",
     "traceback": [
      "\u001b[1;31m---------------------------------------------------------------------------\u001b[0m",
      "\u001b[1;31mNameError\u001b[0m                                 Traceback (most recent call last)",
      "\u001b[1;32m<ipython-input-30-e7ae6edfbec0>\u001b[0m in \u001b[0;36m<module>\u001b[1;34m\u001b[0m\n\u001b[1;32m----> 1\u001b[1;33m \u001b[0mGermanyCars_drop_duplicates\u001b[0m\u001b[1;33m.\u001b[0m\u001b[0msort_values\u001b[0m\u001b[1;33m(\u001b[0m\u001b[1;33m[\u001b[0m\u001b[1;34m\"mileage\"\u001b[0m\u001b[1;33m,\u001b[0m\u001b[1;34m\"make\"\u001b[0m\u001b[1;33m]\u001b[0m\u001b[1;33m,\u001b[0m\u001b[0mascending\u001b[0m\u001b[1;33m[\u001b[0m\u001b[1;32mFalse\u001b[0m\u001b[1;33m,\u001b[0m\u001b[1;32mTrue\u001b[0m\u001b[1;33m]\u001b[0m\u001b[1;33m)\u001b[0m\u001b[1;33m\u001b[0m\u001b[1;33m\u001b[0m\u001b[0m\n\u001b[0m",
      "\u001b[1;31mNameError\u001b[0m: name 'ascending' is not defined"
     ]
    }
   ],
   "source": [
    "GermanyCars_drop_duplicates.sort_values([\"mileage\",\"make\"],ascending[False,True])"
   ]
  },
  {
   "cell_type": "code",
   "execution_count": 31,
   "id": "8df834b1",
   "metadata": {},
   "outputs": [
    {
     "ename": "NameError",
     "evalue": "name 'ascending' is not defined",
     "output_type": "error",
     "traceback": [
      "\u001b[1;31m---------------------------------------------------------------------------\u001b[0m",
      "\u001b[1;31mNameError\u001b[0m                                 Traceback (most recent call last)",
      "\u001b[1;32m<ipython-input-31-b14649e65b81>\u001b[0m in \u001b[0;36m<module>\u001b[1;34m\u001b[0m\n\u001b[1;32m----> 1\u001b[1;33m \u001b[0mGermanyCars_drop_duplicates\u001b[0m\u001b[1;33m.\u001b[0m\u001b[0msort_values\u001b[0m\u001b[1;33m(\u001b[0m\u001b[1;33m[\u001b[0m\u001b[1;34m\"mileage\"\u001b[0m\u001b[1;33m]\u001b[0m\u001b[1;33m,\u001b[0m\u001b[0mascending\u001b[0m\u001b[1;33m[\u001b[0m\u001b[1;32mFalse\u001b[0m\u001b[1;33m]\u001b[0m\u001b[1;33m)\u001b[0m\u001b[1;33m\u001b[0m\u001b[1;33m\u001b[0m\u001b[0m\n\u001b[0m",
      "\u001b[1;31mNameError\u001b[0m: name 'ascending' is not defined"
     ]
    }
   ],
   "source": [
    "GermanyCars_drop_duplicates.sort_values([\"mileage\"],ascending[False])"
   ]
  },
  {
   "cell_type": "code",
   "execution_count": 32,
   "id": "f28f35fd",
   "metadata": {},
   "outputs": [
    {
     "data": {
      "text/html": [
       "<div>\n",
       "<style scoped>\n",
       "    .dataframe tbody tr th:only-of-type {\n",
       "        vertical-align: middle;\n",
       "    }\n",
       "\n",
       "    .dataframe tbody tr th {\n",
       "        vertical-align: top;\n",
       "    }\n",
       "\n",
       "    .dataframe thead th {\n",
       "        text-align: right;\n",
       "    }\n",
       "</style>\n",
       "<table border=\"1\" class=\"dataframe\">\n",
       "  <thead>\n",
       "    <tr style=\"text-align: right;\">\n",
       "      <th></th>\n",
       "      <th>make</th>\n",
       "      <th>model</th>\n",
       "      <th>fuel</th>\n",
       "      <th>gear</th>\n",
       "      <th>offerType</th>\n",
       "      <th>price</th>\n",
       "      <th>hp</th>\n",
       "      <th>year</th>\n",
       "    </tr>\n",
       "    <tr>\n",
       "      <th>mileage</th>\n",
       "      <th></th>\n",
       "      <th></th>\n",
       "      <th></th>\n",
       "      <th></th>\n",
       "      <th></th>\n",
       "      <th></th>\n",
       "      <th></th>\n",
       "      <th></th>\n",
       "    </tr>\n",
       "  </thead>\n",
       "  <tbody>\n",
       "    <tr>\n",
       "      <th>0</th>\n",
       "      <td>Hyundai</td>\n",
       "      <td>Ioniq</td>\n",
       "      <td>Electric/Gasoline</td>\n",
       "      <td>Automatic</td>\n",
       "      <td>Pre-registered</td>\n",
       "      <td>24990</td>\n",
       "      <td>141.0</td>\n",
       "      <td>2021</td>\n",
       "    </tr>\n",
       "    <tr>\n",
       "      <th>0</th>\n",
       "      <td>Ford</td>\n",
       "      <td>Kuga</td>\n",
       "      <td>Gasoline</td>\n",
       "      <td>Manual</td>\n",
       "      <td>Pre-registered</td>\n",
       "      <td>27900</td>\n",
       "      <td>150.0</td>\n",
       "      <td>2020</td>\n",
       "    </tr>\n",
       "    <tr>\n",
       "      <th>0</th>\n",
       "      <td>Land</td>\n",
       "      <td>Rover Discovery</td>\n",
       "      <td>Diesel</td>\n",
       "      <td>Automatic</td>\n",
       "      <td>Demonstration</td>\n",
       "      <td>79999</td>\n",
       "      <td>300.0</td>\n",
       "      <td>2021</td>\n",
       "    </tr>\n",
       "    <tr>\n",
       "      <th>0</th>\n",
       "      <td>Fiat</td>\n",
       "      <td>500</td>\n",
       "      <td>Gasoline</td>\n",
       "      <td>Manual</td>\n",
       "      <td>Pre-registered</td>\n",
       "      <td>13790</td>\n",
       "      <td>71.0</td>\n",
       "      <td>2021</td>\n",
       "    </tr>\n",
       "    <tr>\n",
       "      <th>0</th>\n",
       "      <td>Fiat</td>\n",
       "      <td>500</td>\n",
       "      <td>Gasoline</td>\n",
       "      <td>Manual</td>\n",
       "      <td>Pre-registered</td>\n",
       "      <td>13900</td>\n",
       "      <td>71.0</td>\n",
       "      <td>2021</td>\n",
       "    </tr>\n",
       "    <tr>\n",
       "      <th>...</th>\n",
       "      <td>...</td>\n",
       "      <td>...</td>\n",
       "      <td>...</td>\n",
       "      <td>...</td>\n",
       "      <td>...</td>\n",
       "      <td>...</td>\n",
       "      <td>...</td>\n",
       "      <td>...</td>\n",
       "    </tr>\n",
       "    <tr>\n",
       "      <th>598744</th>\n",
       "      <td>Mercedes-Benz</td>\n",
       "      <td>Sprinter</td>\n",
       "      <td>Diesel</td>\n",
       "      <td>Manual</td>\n",
       "      <td>Used</td>\n",
       "      <td>13078</td>\n",
       "      <td>163.0</td>\n",
       "      <td>2015</td>\n",
       "    </tr>\n",
       "    <tr>\n",
       "      <th>599900</th>\n",
       "      <td>Ford</td>\n",
       "      <td>Transit</td>\n",
       "      <td>Diesel</td>\n",
       "      <td>Manual</td>\n",
       "      <td>Used</td>\n",
       "      <td>5990</td>\n",
       "      <td>116.0</td>\n",
       "      <td>2012</td>\n",
       "    </tr>\n",
       "    <tr>\n",
       "      <th>620000</th>\n",
       "      <td>Mercedes-Benz</td>\n",
       "      <td>Vito</td>\n",
       "      <td>Diesel</td>\n",
       "      <td>Manual</td>\n",
       "      <td>Used</td>\n",
       "      <td>6500</td>\n",
       "      <td>163.0</td>\n",
       "      <td>2014</td>\n",
       "    </tr>\n",
       "    <tr>\n",
       "      <th>699000</th>\n",
       "      <td>Mercedes-Benz</td>\n",
       "      <td>Sprinter</td>\n",
       "      <td>Diesel</td>\n",
       "      <td>Manual</td>\n",
       "      <td>Used</td>\n",
       "      <td>3990</td>\n",
       "      <td>163.0</td>\n",
       "      <td>2011</td>\n",
       "    </tr>\n",
       "    <tr>\n",
       "      <th>1111111</th>\n",
       "      <td>Opel</td>\n",
       "      <td>Karl</td>\n",
       "      <td>Gasoline</td>\n",
       "      <td>Manual</td>\n",
       "      <td>Demonstration</td>\n",
       "      <td>10490</td>\n",
       "      <td>73.0</td>\n",
       "      <td>2019</td>\n",
       "    </tr>\n",
       "  </tbody>\n",
       "</table>\n",
       "<p>41295 rows × 8 columns</p>\n",
       "</div>"
      ],
      "text/plain": [
       "                  make            model               fuel       gear  \\\n",
       "mileage                                                                 \n",
       "0              Hyundai            Ioniq  Electric/Gasoline  Automatic   \n",
       "0                 Ford             Kuga           Gasoline     Manual   \n",
       "0                 Land  Rover Discovery             Diesel  Automatic   \n",
       "0                 Fiat              500           Gasoline     Manual   \n",
       "0                 Fiat              500           Gasoline     Manual   \n",
       "...                ...              ...                ...        ...   \n",
       "598744   Mercedes-Benz         Sprinter             Diesel     Manual   \n",
       "599900            Ford          Transit             Diesel     Manual   \n",
       "620000   Mercedes-Benz             Vito             Diesel     Manual   \n",
       "699000   Mercedes-Benz         Sprinter             Diesel     Manual   \n",
       "1111111           Opel             Karl           Gasoline     Manual   \n",
       "\n",
       "              offerType  price     hp  year  \n",
       "mileage                                      \n",
       "0        Pre-registered  24990  141.0  2021  \n",
       "0        Pre-registered  27900  150.0  2020  \n",
       "0         Demonstration  79999  300.0  2021  \n",
       "0        Pre-registered  13790   71.0  2021  \n",
       "0        Pre-registered  13900   71.0  2021  \n",
       "...                 ...    ...    ...   ...  \n",
       "598744             Used  13078  163.0  2015  \n",
       "599900             Used   5990  116.0  2012  \n",
       "620000             Used   6500  163.0  2014  \n",
       "699000             Used   3990  163.0  2011  \n",
       "1111111   Demonstration  10490   73.0  2019  \n",
       "\n",
       "[41295 rows x 8 columns]"
      ]
     },
     "execution_count": 32,
     "metadata": {},
     "output_type": "execute_result"
    }
   ],
   "source": [
    "GermanyCars_drop_duplicates.sort_values([\"mileage\"])"
   ]
  },
  {
   "cell_type": "code",
   "execution_count": 38,
   "id": "8397b3a3",
   "metadata": {},
   "outputs": [
    {
     "ename": "KeyError",
     "evalue": "'mileage'",
     "output_type": "error",
     "traceback": [
      "\u001b[1;31m---------------------------------------------------------------------------\u001b[0m",
      "\u001b[1;31mKeyError\u001b[0m                                  Traceback (most recent call last)",
      "\u001b[1;32m~\\Anaconda3\\lib\\site-packages\\pandas\\core\\indexes\\base.py\u001b[0m in \u001b[0;36mget_loc\u001b[1;34m(self, key, method, tolerance)\u001b[0m\n\u001b[0;32m   3079\u001b[0m             \u001b[1;32mtry\u001b[0m\u001b[1;33m:\u001b[0m\u001b[1;33m\u001b[0m\u001b[1;33m\u001b[0m\u001b[0m\n\u001b[1;32m-> 3080\u001b[1;33m                 \u001b[1;32mreturn\u001b[0m \u001b[0mself\u001b[0m\u001b[1;33m.\u001b[0m\u001b[0m_engine\u001b[0m\u001b[1;33m.\u001b[0m\u001b[0mget_loc\u001b[0m\u001b[1;33m(\u001b[0m\u001b[0mcasted_key\u001b[0m\u001b[1;33m)\u001b[0m\u001b[1;33m\u001b[0m\u001b[1;33m\u001b[0m\u001b[0m\n\u001b[0m\u001b[0;32m   3081\u001b[0m             \u001b[1;32mexcept\u001b[0m \u001b[0mKeyError\u001b[0m \u001b[1;32mas\u001b[0m \u001b[0merr\u001b[0m\u001b[1;33m:\u001b[0m\u001b[1;33m\u001b[0m\u001b[1;33m\u001b[0m\u001b[0m\n",
      "\u001b[1;32mpandas\\_libs\\index.pyx\u001b[0m in \u001b[0;36mpandas._libs.index.IndexEngine.get_loc\u001b[1;34m()\u001b[0m\n",
      "\u001b[1;32mpandas\\_libs\\index.pyx\u001b[0m in \u001b[0;36mpandas._libs.index.IndexEngine.get_loc\u001b[1;34m()\u001b[0m\n",
      "\u001b[1;32mpandas\\_libs\\hashtable_class_helper.pxi\u001b[0m in \u001b[0;36mpandas._libs.hashtable.PyObjectHashTable.get_item\u001b[1;34m()\u001b[0m\n",
      "\u001b[1;32mpandas\\_libs\\hashtable_class_helper.pxi\u001b[0m in \u001b[0;36mpandas._libs.hashtable.PyObjectHashTable.get_item\u001b[1;34m()\u001b[0m\n",
      "\u001b[1;31mKeyError\u001b[0m: 'mileage'",
      "\nThe above exception was the direct cause of the following exception:\n",
      "\u001b[1;31mKeyError\u001b[0m                                  Traceback (most recent call last)",
      "\u001b[1;32m<ipython-input-38-7ef8b31ec223>\u001b[0m in \u001b[0;36m<module>\u001b[1;34m\u001b[0m\n\u001b[1;32m----> 1\u001b[1;33m \u001b[0mGermanyCars_drop_duplicates\u001b[0m\u001b[1;33m[\u001b[0m\u001b[1;34m\"mileage\"\u001b[0m\u001b[1;33m]\u001b[0m\u001b[1;33m\u001b[0m\u001b[1;33m\u001b[0m\u001b[0m\n\u001b[0m",
      "\u001b[1;32m~\\Anaconda3\\lib\\site-packages\\pandas\\core\\frame.py\u001b[0m in \u001b[0;36m__getitem__\u001b[1;34m(self, key)\u001b[0m\n\u001b[0;32m   3022\u001b[0m             \u001b[1;32mif\u001b[0m \u001b[0mself\u001b[0m\u001b[1;33m.\u001b[0m\u001b[0mcolumns\u001b[0m\u001b[1;33m.\u001b[0m\u001b[0mnlevels\u001b[0m \u001b[1;33m>\u001b[0m \u001b[1;36m1\u001b[0m\u001b[1;33m:\u001b[0m\u001b[1;33m\u001b[0m\u001b[1;33m\u001b[0m\u001b[0m\n\u001b[0;32m   3023\u001b[0m                 \u001b[1;32mreturn\u001b[0m \u001b[0mself\u001b[0m\u001b[1;33m.\u001b[0m\u001b[0m_getitem_multilevel\u001b[0m\u001b[1;33m(\u001b[0m\u001b[0mkey\u001b[0m\u001b[1;33m)\u001b[0m\u001b[1;33m\u001b[0m\u001b[1;33m\u001b[0m\u001b[0m\n\u001b[1;32m-> 3024\u001b[1;33m             \u001b[0mindexer\u001b[0m \u001b[1;33m=\u001b[0m \u001b[0mself\u001b[0m\u001b[1;33m.\u001b[0m\u001b[0mcolumns\u001b[0m\u001b[1;33m.\u001b[0m\u001b[0mget_loc\u001b[0m\u001b[1;33m(\u001b[0m\u001b[0mkey\u001b[0m\u001b[1;33m)\u001b[0m\u001b[1;33m\u001b[0m\u001b[1;33m\u001b[0m\u001b[0m\n\u001b[0m\u001b[0;32m   3025\u001b[0m             \u001b[1;32mif\u001b[0m \u001b[0mis_integer\u001b[0m\u001b[1;33m(\u001b[0m\u001b[0mindexer\u001b[0m\u001b[1;33m)\u001b[0m\u001b[1;33m:\u001b[0m\u001b[1;33m\u001b[0m\u001b[1;33m\u001b[0m\u001b[0m\n\u001b[0;32m   3026\u001b[0m                 \u001b[0mindexer\u001b[0m \u001b[1;33m=\u001b[0m \u001b[1;33m[\u001b[0m\u001b[0mindexer\u001b[0m\u001b[1;33m]\u001b[0m\u001b[1;33m\u001b[0m\u001b[1;33m\u001b[0m\u001b[0m\n",
      "\u001b[1;32m~\\Anaconda3\\lib\\site-packages\\pandas\\core\\indexes\\base.py\u001b[0m in \u001b[0;36mget_loc\u001b[1;34m(self, key, method, tolerance)\u001b[0m\n\u001b[0;32m   3080\u001b[0m                 \u001b[1;32mreturn\u001b[0m \u001b[0mself\u001b[0m\u001b[1;33m.\u001b[0m\u001b[0m_engine\u001b[0m\u001b[1;33m.\u001b[0m\u001b[0mget_loc\u001b[0m\u001b[1;33m(\u001b[0m\u001b[0mcasted_key\u001b[0m\u001b[1;33m)\u001b[0m\u001b[1;33m\u001b[0m\u001b[1;33m\u001b[0m\u001b[0m\n\u001b[0;32m   3081\u001b[0m             \u001b[1;32mexcept\u001b[0m \u001b[0mKeyError\u001b[0m \u001b[1;32mas\u001b[0m \u001b[0merr\u001b[0m\u001b[1;33m:\u001b[0m\u001b[1;33m\u001b[0m\u001b[1;33m\u001b[0m\u001b[0m\n\u001b[1;32m-> 3082\u001b[1;33m                 \u001b[1;32mraise\u001b[0m \u001b[0mKeyError\u001b[0m\u001b[1;33m(\u001b[0m\u001b[0mkey\u001b[0m\u001b[1;33m)\u001b[0m \u001b[1;32mfrom\u001b[0m \u001b[0merr\u001b[0m\u001b[1;33m\u001b[0m\u001b[1;33m\u001b[0m\u001b[0m\n\u001b[0m\u001b[0;32m   3083\u001b[0m \u001b[1;33m\u001b[0m\u001b[0m\n\u001b[0;32m   3084\u001b[0m         \u001b[1;32mif\u001b[0m \u001b[0mtolerance\u001b[0m \u001b[1;32mis\u001b[0m \u001b[1;32mnot\u001b[0m \u001b[1;32mNone\u001b[0m\u001b[1;33m:\u001b[0m\u001b[1;33m\u001b[0m\u001b[1;33m\u001b[0m\u001b[0m\n",
      "\u001b[1;31mKeyError\u001b[0m: 'mileage'"
     ]
    }
   ],
   "source": [
    "GermanyCars_drop_duplicates[\"mileage\"]"
   ]
  },
  {
   "cell_type": "code",
   "execution_count": 39,
   "id": "6bfc9813",
   "metadata": {},
   "outputs": [],
   "source": [
    "GermanCars=pd.read_csv(\"autoscout24-germany-car.csv\")"
   ]
  },
  {
   "cell_type": "code",
   "execution_count": 40,
   "id": "1c65692f",
   "metadata": {},
   "outputs": [
    {
     "name": "stdout",
     "output_type": "stream",
     "text": [
      "   mileage        make   model      fuel    gear offerType  price     hp  year\n",
      "0   235000         BMW     316    Diesel  Manual      Used   6800  116.0  2011\n",
      "1    92800  Volkswagen    Golf  Gasoline  Manual      Used   6877  122.0  2011\n",
      "2   149300        SEAT    Exeo  Gasoline  Manual      Used   6900  160.0  2011\n",
      "3    96200     Renault  Megane  Gasoline  Manual      Used   6950  110.0  2011\n",
      "4   156000     Peugeot     308  Gasoline  Manual      Used   6950  156.0  2011\n"
     ]
    }
   ],
   "source": [
    "#Checking the top rows of the data to understand\n",
    "print(GermanCars.head())"
   ]
  },
  {
   "cell_type": "code",
   "execution_count": 41,
   "id": "b0b414dc",
   "metadata": {},
   "outputs": [
    {
     "name": "stdout",
     "output_type": "stream",
     "text": [
      "(46405, 9) (46071, 9)\n"
     ]
    }
   ],
   "source": [
    "GermanCarsDR=GermanCars.dropna()\n",
    "print(GermanCars.shape,GermanCarsDR.shape)"
   ]
  },
  {
   "cell_type": "code",
   "execution_count": 42,
   "id": "999cf87b",
   "metadata": {},
   "outputs": [
    {
     "name": "stdout",
     "output_type": "stream",
     "text": [
      "(46071, 9)        mileage        make   model               fuel    gear       offerType  \\\n",
      "0       235000         BMW     316             Diesel  Manual            Used   \n",
      "1        92800  Volkswagen    Golf           Gasoline  Manual            Used   \n",
      "2       149300        SEAT    Exeo           Gasoline  Manual            Used   \n",
      "3        96200     Renault  Megane           Gasoline  Manual            Used   \n",
      "4       156000     Peugeot     308           Gasoline  Manual            Used   \n",
      "...        ...         ...     ...                ...     ...             ...   \n",
      "46394       10     Citroen      C1           Gasoline  Manual  Pre-registered   \n",
      "46396       99        Fiat     500  Electric/Gasoline  Manual  Pre-registered   \n",
      "46397      550        Fiat     500  Electric/Gasoline  Manual   Demonstration   \n",
      "46398      837        Fiat   Panda  Electric/Gasoline  Manual   Demonstration   \n",
      "46399     1500       Skoda   Fabia           Gasoline  Manual   Demonstration   \n",
      "\n",
      "       price     hp  year  \n",
      "0       6800  116.0  2011  \n",
      "1       6877  122.0  2011  \n",
      "2       6900  160.0  2011  \n",
      "3       6950  110.0  2011  \n",
      "4       6950  156.0  2011  \n",
      "...      ...    ...   ...  \n",
      "46394  12340   72.0  2021  \n",
      "46396  12490   71.0  2021  \n",
      "46397  12805   69.0  2021  \n",
      "46398  12805   69.0  2021  \n",
      "46399  12980   60.0  2021  \n",
      "\n",
      "[43947 rows x 9 columns]\n"
     ]
    }
   ],
   "source": [
    "GermanCars1=GermanCarsDR.drop_duplicates() #Dropping Duplicates\n",
    "print(GermanCarsDR.shape,GermanCars1)"
   ]
  },
  {
   "cell_type": "code",
   "execution_count": 43,
   "id": "25222411",
   "metadata": {},
   "outputs": [
    {
     "name": "stdout",
     "output_type": "stream",
     "text": [
      "<bound method DataFrame.info of        mileage        make   model               fuel    gear       offerType  \\\n",
      "0       235000         BMW     316             Diesel  Manual            Used   \n",
      "1        92800  Volkswagen    Golf           Gasoline  Manual            Used   \n",
      "2       149300        SEAT    Exeo           Gasoline  Manual            Used   \n",
      "3        96200     Renault  Megane           Gasoline  Manual            Used   \n",
      "4       156000     Peugeot     308           Gasoline  Manual            Used   \n",
      "...        ...         ...     ...                ...     ...             ...   \n",
      "46394       10     Citroen      C1           Gasoline  Manual  Pre-registered   \n",
      "46396       99        Fiat     500  Electric/Gasoline  Manual  Pre-registered   \n",
      "46397      550        Fiat     500  Electric/Gasoline  Manual   Demonstration   \n",
      "46398      837        Fiat   Panda  Electric/Gasoline  Manual   Demonstration   \n",
      "46399     1500       Skoda   Fabia           Gasoline  Manual   Demonstration   \n",
      "\n",
      "       price     hp  year  \n",
      "0       6800  116.0  2011  \n",
      "1       6877  122.0  2011  \n",
      "2       6900  160.0  2011  \n",
      "3       6950  110.0  2011  \n",
      "4       6950  156.0  2011  \n",
      "...      ...    ...   ...  \n",
      "46394  12340   72.0  2021  \n",
      "46396  12490   71.0  2021  \n",
      "46397  12805   69.0  2021  \n",
      "46398  12805   69.0  2021  \n",
      "46399  12980   60.0  2021  \n",
      "\n",
      "[43947 rows x 9 columns]>\n"
     ]
    }
   ],
   "source": [
    "print(GermanCars1.info)"
   ]
  },
  {
   "cell_type": "code",
   "execution_count": 44,
   "id": "8630a13c",
   "metadata": {},
   "outputs": [
    {
     "ename": "TypeError",
     "evalue": "'DataFrame' object is not callable",
     "output_type": "error",
     "traceback": [
      "\u001b[1;31m---------------------------------------------------------------------------\u001b[0m",
      "\u001b[1;31mTypeError\u001b[0m                                 Traceback (most recent call last)",
      "\u001b[1;32m<ipython-input-44-c0635667df98>\u001b[0m in \u001b[0;36m<module>\u001b[1;34m\u001b[0m\n\u001b[1;32m----> 1\u001b[1;33m \u001b[0mGermanCars1\u001b[0m\u001b[1;33m(\u001b[0m\u001b[1;33m[\u001b[0m\u001b[1;34m\"mileage\"\u001b[0m\u001b[1;33m]\u001b[0m\u001b[1;33m)\u001b[0m\u001b[1;33m\u001b[0m\u001b[1;33m\u001b[0m\u001b[0m\n\u001b[0m",
      "\u001b[1;31mTypeError\u001b[0m: 'DataFrame' object is not callable"
     ]
    }
   ],
   "source": [
    "GermanCars1([\"mileage\"])"
   ]
  },
  {
   "cell_type": "code",
   "execution_count": 45,
   "id": "07f81cf4",
   "metadata": {},
   "outputs": [
    {
     "data": {
      "text/plain": [
       "0        235000\n",
       "1         92800\n",
       "2        149300\n",
       "3         96200\n",
       "4        156000\n",
       "          ...  \n",
       "46394        10\n",
       "46396        99\n",
       "46397       550\n",
       "46398       837\n",
       "46399      1500\n",
       "Name: mileage, Length: 43947, dtype: int64"
      ]
     },
     "execution_count": 45,
     "metadata": {},
     "output_type": "execute_result"
    }
   ],
   "source": [
    "GermanCars1[\"mileage\"]"
   ]
  },
  {
   "cell_type": "code",
   "execution_count": 47,
   "id": "5c813265",
   "metadata": {},
   "outputs": [],
   "source": [
    "GermanCars2=GermanCars1[[\"year\",\"make\",\"model\",\"fuel\",\"gear\",\"offerType\",\"price\",\"hp\",\"mileage\"]] #Swapping the year and mileage columns"
   ]
  },
  {
   "cell_type": "code",
   "execution_count": 48,
   "id": "d2fd0bc0",
   "metadata": {},
   "outputs": [
    {
     "name": "stdout",
     "output_type": "stream",
     "text": [
      "   year        make   model      fuel    gear offerType  price     hp  mileage\n",
      "0  2011         BMW     316    Diesel  Manual      Used   6800  116.0   235000\n",
      "1  2011  Volkswagen    Golf  Gasoline  Manual      Used   6877  122.0    92800\n",
      "2  2011        SEAT    Exeo  Gasoline  Manual      Used   6900  160.0   149300\n",
      "3  2011     Renault  Megane  Gasoline  Manual      Used   6950  110.0    96200\n",
      "4  2011     Peugeot     308  Gasoline  Manual      Used   6950  156.0   156000\n"
     ]
    }
   ],
   "source": [
    "print(GermanCars2.head())"
   ]
  },
  {
   "cell_type": "code",
   "execution_count": 49,
   "id": "354d3f3b",
   "metadata": {},
   "outputs": [
    {
     "data": {
      "text/html": [
       "<div>\n",
       "<style scoped>\n",
       "    .dataframe tbody tr th:only-of-type {\n",
       "        vertical-align: middle;\n",
       "    }\n",
       "\n",
       "    .dataframe tbody tr th {\n",
       "        vertical-align: top;\n",
       "    }\n",
       "\n",
       "    .dataframe thead th {\n",
       "        text-align: right;\n",
       "    }\n",
       "</style>\n",
       "<table border=\"1\" class=\"dataframe\">\n",
       "  <thead>\n",
       "    <tr style=\"text-align: right;\">\n",
       "      <th></th>\n",
       "      <th>year</th>\n",
       "      <th>make</th>\n",
       "      <th>model</th>\n",
       "      <th>fuel</th>\n",
       "      <th>gear</th>\n",
       "      <th>offerType</th>\n",
       "      <th>price</th>\n",
       "      <th>hp</th>\n",
       "      <th>mileage</th>\n",
       "    </tr>\n",
       "  </thead>\n",
       "  <tbody>\n",
       "    <tr>\n",
       "      <th>14602</th>\n",
       "      <td>2012</td>\n",
       "      <td>Abarth</td>\n",
       "      <td>Punto EVO</td>\n",
       "      <td>Gasoline</td>\n",
       "      <td>Manual</td>\n",
       "      <td>Used</td>\n",
       "      <td>6500</td>\n",
       "      <td>163.0</td>\n",
       "      <td>168000</td>\n",
       "    </tr>\n",
       "    <tr>\n",
       "      <th>35699</th>\n",
       "      <td>2012</td>\n",
       "      <td>Abarth</td>\n",
       "      <td>500</td>\n",
       "      <td>Gasoline</td>\n",
       "      <td>Manual</td>\n",
       "      <td>Used</td>\n",
       "      <td>9997</td>\n",
       "      <td>135.0</td>\n",
       "      <td>126949</td>\n",
       "    </tr>\n",
       "    <tr>\n",
       "      <th>35072</th>\n",
       "      <td>2012</td>\n",
       "      <td>Abarth</td>\n",
       "      <td>500</td>\n",
       "      <td>Gasoline</td>\n",
       "      <td>Manual</td>\n",
       "      <td>Used</td>\n",
       "      <td>8400</td>\n",
       "      <td>135.0</td>\n",
       "      <td>125455</td>\n",
       "    </tr>\n",
       "    <tr>\n",
       "      <th>33891</th>\n",
       "      <td>2011</td>\n",
       "      <td>Abarth</td>\n",
       "      <td>Grande Punto</td>\n",
       "      <td>-/- (Fuel)</td>\n",
       "      <td>Manual</td>\n",
       "      <td>Used</td>\n",
       "      <td>5990</td>\n",
       "      <td>155.0</td>\n",
       "      <td>99300</td>\n",
       "    </tr>\n",
       "    <tr>\n",
       "      <th>10171</th>\n",
       "      <td>2014</td>\n",
       "      <td>Abarth</td>\n",
       "      <td>595</td>\n",
       "      <td>Gasoline</td>\n",
       "      <td>Manual</td>\n",
       "      <td>Used</td>\n",
       "      <td>12490</td>\n",
       "      <td>160.0</td>\n",
       "      <td>84510</td>\n",
       "    </tr>\n",
       "    <tr>\n",
       "      <th>...</th>\n",
       "      <td>...</td>\n",
       "      <td>...</td>\n",
       "      <td>...</td>\n",
       "      <td>...</td>\n",
       "      <td>...</td>\n",
       "      <td>...</td>\n",
       "      <td>...</td>\n",
       "      <td>...</td>\n",
       "      <td>...</td>\n",
       "    </tr>\n",
       "    <tr>\n",
       "      <th>9419</th>\n",
       "      <td>2019</td>\n",
       "      <td>smart</td>\n",
       "      <td>forFour</td>\n",
       "      <td>Gasoline</td>\n",
       "      <td>Automatic</td>\n",
       "      <td>Used</td>\n",
       "      <td>14480</td>\n",
       "      <td>90.0</td>\n",
       "      <td>2311</td>\n",
       "    </tr>\n",
       "    <tr>\n",
       "      <th>44396</th>\n",
       "      <td>2020</td>\n",
       "      <td>smart</td>\n",
       "      <td>forFour</td>\n",
       "      <td>Electric</td>\n",
       "      <td>Automatic</td>\n",
       "      <td>Employee's car</td>\n",
       "      <td>12990</td>\n",
       "      <td>82.0</td>\n",
       "      <td>2000</td>\n",
       "    </tr>\n",
       "    <tr>\n",
       "      <th>13658</th>\n",
       "      <td>2019</td>\n",
       "      <td>smart</td>\n",
       "      <td>forFour</td>\n",
       "      <td>Gasoline</td>\n",
       "      <td>Manual</td>\n",
       "      <td>Used</td>\n",
       "      <td>10970</td>\n",
       "      <td>71.0</td>\n",
       "      <td>1513</td>\n",
       "    </tr>\n",
       "    <tr>\n",
       "      <th>9064</th>\n",
       "      <td>2021</td>\n",
       "      <td>smart</td>\n",
       "      <td>forTwo</td>\n",
       "      <td>Electric</td>\n",
       "      <td>Automatic</td>\n",
       "      <td>Demonstration</td>\n",
       "      <td>20299</td>\n",
       "      <td>56.0</td>\n",
       "      <td>10</td>\n",
       "    </tr>\n",
       "    <tr>\n",
       "      <th>9068</th>\n",
       "      <td>2021</td>\n",
       "      <td>smart</td>\n",
       "      <td>forTwo</td>\n",
       "      <td>Electric</td>\n",
       "      <td>Automatic</td>\n",
       "      <td>Pre-registered</td>\n",
       "      <td>21877</td>\n",
       "      <td>56.0</td>\n",
       "      <td>10</td>\n",
       "    </tr>\n",
       "  </tbody>\n",
       "</table>\n",
       "<p>43947 rows × 9 columns</p>\n",
       "</div>"
      ],
      "text/plain": [
       "       year    make         model        fuel       gear       offerType  \\\n",
       "14602  2012  Abarth     Punto EVO    Gasoline     Manual            Used   \n",
       "35699  2012  Abarth           500    Gasoline     Manual            Used   \n",
       "35072  2012  Abarth           500    Gasoline     Manual            Used   \n",
       "33891  2011  Abarth  Grande Punto  -/- (Fuel)     Manual            Used   \n",
       "10171  2014  Abarth           595    Gasoline     Manual            Used   \n",
       "...     ...     ...           ...         ...        ...             ...   \n",
       "9419   2019   smart       forFour    Gasoline  Automatic            Used   \n",
       "44396  2020   smart       forFour    Electric  Automatic  Employee's car   \n",
       "13658  2019   smart       forFour    Gasoline     Manual            Used   \n",
       "9064   2021   smart        forTwo    Electric  Automatic   Demonstration   \n",
       "9068   2021   smart        forTwo    Electric  Automatic  Pre-registered   \n",
       "\n",
       "       price     hp  mileage  \n",
       "14602   6500  163.0   168000  \n",
       "35699   9997  135.0   126949  \n",
       "35072   8400  135.0   125455  \n",
       "33891   5990  155.0    99300  \n",
       "10171  12490  160.0    84510  \n",
       "...      ...    ...      ...  \n",
       "9419   14480   90.0     2311  \n",
       "44396  12990   82.0     2000  \n",
       "13658  10970   71.0     1513  \n",
       "9064   20299   56.0       10  \n",
       "9068   21877   56.0       10  \n",
       "\n",
       "[43947 rows x 9 columns]"
      ]
     },
     "execution_count": 49,
     "metadata": {},
     "output_type": "execute_result"
    }
   ],
   "source": [
    "GermanCars2.sort_values([\"make\",\"mileage\"],ascending=[True,False])"
   ]
  },
  {
   "cell_type": "code",
   "execution_count": 50,
   "id": "05bd6ffb",
   "metadata": {},
   "outputs": [
    {
     "data": {
      "text/html": [
       "<div>\n",
       "<style scoped>\n",
       "    .dataframe tbody tr th:only-of-type {\n",
       "        vertical-align: middle;\n",
       "    }\n",
       "\n",
       "    .dataframe tbody tr th {\n",
       "        vertical-align: top;\n",
       "    }\n",
       "\n",
       "    .dataframe thead th {\n",
       "        text-align: right;\n",
       "    }\n",
       "</style>\n",
       "<table border=\"1\" class=\"dataframe\">\n",
       "  <thead>\n",
       "    <tr style=\"text-align: right;\">\n",
       "      <th></th>\n",
       "      <th>year</th>\n",
       "      <th>make</th>\n",
       "      <th>model</th>\n",
       "      <th>fuel</th>\n",
       "      <th>gear</th>\n",
       "      <th>offerType</th>\n",
       "      <th>price</th>\n",
       "      <th>hp</th>\n",
       "      <th>mileage</th>\n",
       "    </tr>\n",
       "  </thead>\n",
       "  <tbody>\n",
       "    <tr>\n",
       "      <th>0</th>\n",
       "      <td>2011</td>\n",
       "      <td>BMW</td>\n",
       "      <td>316</td>\n",
       "      <td>Diesel</td>\n",
       "      <td>Manual</td>\n",
       "      <td>Used</td>\n",
       "      <td>6800</td>\n",
       "      <td>116.0</td>\n",
       "      <td>235000</td>\n",
       "    </tr>\n",
       "    <tr>\n",
       "      <th>1</th>\n",
       "      <td>2011</td>\n",
       "      <td>Volkswagen</td>\n",
       "      <td>Golf</td>\n",
       "      <td>Gasoline</td>\n",
       "      <td>Manual</td>\n",
       "      <td>Used</td>\n",
       "      <td>6877</td>\n",
       "      <td>122.0</td>\n",
       "      <td>92800</td>\n",
       "    </tr>\n",
       "    <tr>\n",
       "      <th>2</th>\n",
       "      <td>2011</td>\n",
       "      <td>SEAT</td>\n",
       "      <td>Exeo</td>\n",
       "      <td>Gasoline</td>\n",
       "      <td>Manual</td>\n",
       "      <td>Used</td>\n",
       "      <td>6900</td>\n",
       "      <td>160.0</td>\n",
       "      <td>149300</td>\n",
       "    </tr>\n",
       "    <tr>\n",
       "      <th>3</th>\n",
       "      <td>2011</td>\n",
       "      <td>Renault</td>\n",
       "      <td>Megane</td>\n",
       "      <td>Gasoline</td>\n",
       "      <td>Manual</td>\n",
       "      <td>Used</td>\n",
       "      <td>6950</td>\n",
       "      <td>110.0</td>\n",
       "      <td>96200</td>\n",
       "    </tr>\n",
       "    <tr>\n",
       "      <th>4</th>\n",
       "      <td>2011</td>\n",
       "      <td>Peugeot</td>\n",
       "      <td>308</td>\n",
       "      <td>Gasoline</td>\n",
       "      <td>Manual</td>\n",
       "      <td>Used</td>\n",
       "      <td>6950</td>\n",
       "      <td>156.0</td>\n",
       "      <td>156000</td>\n",
       "    </tr>\n",
       "    <tr>\n",
       "      <th>...</th>\n",
       "      <td>...</td>\n",
       "      <td>...</td>\n",
       "      <td>...</td>\n",
       "      <td>...</td>\n",
       "      <td>...</td>\n",
       "      <td>...</td>\n",
       "      <td>...</td>\n",
       "      <td>...</td>\n",
       "      <td>...</td>\n",
       "    </tr>\n",
       "    <tr>\n",
       "      <th>44054</th>\n",
       "      <td>2019</td>\n",
       "      <td>SEAT</td>\n",
       "      <td>Ateca</td>\n",
       "      <td>Diesel</td>\n",
       "      <td>Automatic</td>\n",
       "      <td>Used</td>\n",
       "      <td>29850</td>\n",
       "      <td>190.0</td>\n",
       "      <td>58779</td>\n",
       "    </tr>\n",
       "    <tr>\n",
       "      <th>44064</th>\n",
       "      <td>2019</td>\n",
       "      <td>Toyota</td>\n",
       "      <td>RAV 4</td>\n",
       "      <td>Gasoline</td>\n",
       "      <td>Automatic</td>\n",
       "      <td>Used</td>\n",
       "      <td>30500</td>\n",
       "      <td>218.0</td>\n",
       "      <td>56605</td>\n",
       "    </tr>\n",
       "    <tr>\n",
       "      <th>44082</th>\n",
       "      <td>2019</td>\n",
       "      <td>Opel</td>\n",
       "      <td>Corsa</td>\n",
       "      <td>Gasoline</td>\n",
       "      <td>Manual</td>\n",
       "      <td>Used</td>\n",
       "      <td>9100</td>\n",
       "      <td>101.0</td>\n",
       "      <td>110000</td>\n",
       "    </tr>\n",
       "    <tr>\n",
       "      <th>44087</th>\n",
       "      <td>2019</td>\n",
       "      <td>Skoda</td>\n",
       "      <td>Fabia</td>\n",
       "      <td>Gasoline</td>\n",
       "      <td>Manual</td>\n",
       "      <td>Used</td>\n",
       "      <td>9390</td>\n",
       "      <td>75.0</td>\n",
       "      <td>79000</td>\n",
       "    </tr>\n",
       "    <tr>\n",
       "      <th>44794</th>\n",
       "      <td>2020</td>\n",
       "      <td>Ford</td>\n",
       "      <td>Tourneo Courier</td>\n",
       "      <td>Diesel</td>\n",
       "      <td>Manual</td>\n",
       "      <td>Used</td>\n",
       "      <td>15490</td>\n",
       "      <td>101.0</td>\n",
       "      <td>91900</td>\n",
       "    </tr>\n",
       "  </tbody>\n",
       "</table>\n",
       "<p>24962 rows × 9 columns</p>\n",
       "</div>"
      ],
      "text/plain": [
       "       year        make            model      fuel       gear offerType  \\\n",
       "0      2011         BMW              316    Diesel     Manual      Used   \n",
       "1      2011  Volkswagen             Golf  Gasoline     Manual      Used   \n",
       "2      2011        SEAT             Exeo  Gasoline     Manual      Used   \n",
       "3      2011     Renault           Megane  Gasoline     Manual      Used   \n",
       "4      2011     Peugeot              308  Gasoline     Manual      Used   \n",
       "...     ...         ...              ...       ...        ...       ...   \n",
       "44054  2019        SEAT            Ateca    Diesel  Automatic      Used   \n",
       "44064  2019      Toyota            RAV 4  Gasoline  Automatic      Used   \n",
       "44082  2019        Opel            Corsa  Gasoline     Manual      Used   \n",
       "44087  2019       Skoda            Fabia  Gasoline     Manual      Used   \n",
       "44794  2020        Ford  Tourneo Courier    Diesel     Manual      Used   \n",
       "\n",
       "       price     hp  mileage  \n",
       "0       6800  116.0   235000  \n",
       "1       6877  122.0    92800  \n",
       "2       6900  160.0   149300  \n",
       "3       6950  110.0    96200  \n",
       "4       6950  156.0   156000  \n",
       "...      ...    ...      ...  \n",
       "44054  29850  190.0    58779  \n",
       "44064  30500  218.0    56605  \n",
       "44082   9100  101.0   110000  \n",
       "44087   9390   75.0    79000  \n",
       "44794  15490  101.0    91900  \n",
       "\n",
       "[24962 rows x 9 columns]"
      ]
     },
     "execution_count": 50,
     "metadata": {},
     "output_type": "execute_result"
    }
   ],
   "source": [
    "GermanCars2[GermanCars2[\"mileage\"]>50000] #Subsetting rows where mileage is >50k"
   ]
  },
  {
   "cell_type": "code",
   "execution_count": 51,
   "id": "419165ea",
   "metadata": {},
   "outputs": [
    {
     "name": "stdout",
     "output_type": "stream",
     "text": [
      "   year        make   model      fuel    gear offerType  price     hp  mileage\n",
      "0  2011         BMW     316    Diesel  Manual      Used   6800  116.0   235000\n",
      "1  2011  Volkswagen    Golf  Gasoline  Manual      Used   6877  122.0    92800\n",
      "2  2011        SEAT    Exeo  Gasoline  Manual      Used   6900  160.0   149300\n",
      "3  2011     Renault  Megane  Gasoline  Manual      Used   6950  110.0    96200\n",
      "4  2011     Peugeot     308  Gasoline  Manual      Used   6950  156.0   156000\n"
     ]
    }
   ],
   "source": [
    "print(GermanCars2.head())"
   ]
  },
  {
   "cell_type": "code",
   "execution_count": 52,
   "id": "31ee3909",
   "metadata": {},
   "outputs": [
    {
     "name": "stdout",
     "output_type": "stream",
     "text": [
      "(43947, 9)\n"
     ]
    }
   ],
   "source": [
    "print(GermanCars2.shape)"
   ]
  },
  {
   "cell_type": "code",
   "execution_count": 53,
   "id": "8d3c0797",
   "metadata": {},
   "outputs": [
    {
     "name": "stdout",
     "output_type": "stream",
     "text": [
      "0        235000\n",
      "1         92800\n",
      "2        149300\n",
      "3         96200\n",
      "4        156000\n",
      "          ...  \n",
      "46400        99\n",
      "46401        99\n",
      "46402        99\n",
      "46403        99\n",
      "46404        99\n",
      "Name: mileage, Length: 46405, dtype: int64\n"
     ]
    },
    {
     "ename": "AttributeError",
     "evalue": "'NoneType' object has no attribute 'mean'",
     "output_type": "error",
     "traceback": [
      "\u001b[1;31m---------------------------------------------------------------------------\u001b[0m",
      "\u001b[1;31mAttributeError\u001b[0m                            Traceback (most recent call last)",
      "\u001b[1;32m<ipython-input-53-de9de10e3e23>\u001b[0m in \u001b[0;36m<module>\u001b[1;34m\u001b[0m\n\u001b[1;32m----> 1\u001b[1;33m \u001b[0mprint\u001b[0m\u001b[1;33m(\u001b[0m\u001b[0mGermanCars\u001b[0m\u001b[1;33m[\u001b[0m\u001b[1;34m\"mileage\"\u001b[0m\u001b[1;33m]\u001b[0m\u001b[1;33m)\u001b[0m\u001b[1;33m.\u001b[0m\u001b[0mmean\u001b[0m\u001b[1;33m(\u001b[0m\u001b[1;33m)\u001b[0m\u001b[1;33m\u001b[0m\u001b[1;33m\u001b[0m\u001b[0m\n\u001b[0m",
      "\u001b[1;31mAttributeError\u001b[0m: 'NoneType' object has no attribute 'mean'"
     ]
    }
   ],
   "source": [
    "print(GermanCars[\"mileage\"]).mean()"
   ]
  },
  {
   "cell_type": "code",
   "execution_count": 54,
   "id": "44743ca7",
   "metadata": {},
   "outputs": [
    {
     "name": "stdout",
     "output_type": "stream",
     "text": [
      "71177.86410947096\n"
     ]
    }
   ],
   "source": [
    "print(GermanCars[\"mileage\"].mean())"
   ]
  },
  {
   "cell_type": "code",
   "execution_count": 55,
   "id": "7f1890fb",
   "metadata": {},
   "outputs": [
    {
     "data": {
      "text/plain": [
       "Volkswagen    6680\n",
       "Opel          4576\n",
       "Ford          4245\n",
       "Skoda         2737\n",
       "Renault       2659\n",
       "              ... \n",
       "Brilliance       1\n",
       "Isuzu            1\n",
       "Alpine           1\n",
       "FISKER           1\n",
       "Others           1\n",
       "Name: make, Length: 71, dtype: int64"
      ]
     },
     "execution_count": 55,
     "metadata": {},
     "output_type": "execute_result"
    }
   ],
   "source": [
    "GermanCars2[\"make\"].value_counts(sort=True)  #counting different makes of cars"
   ]
  },
  {
   "cell_type": "code",
   "execution_count": 56,
   "id": "517236b0",
   "metadata": {},
   "outputs": [
    {
     "data": {
      "text/plain": [
       "Gasoline             27246\n",
       "Diesel               14684\n",
       "Electric/Gasoline     1039\n",
       "Electric               639\n",
       "CNG                    113\n",
       "LPG                    109\n",
       "Electric/Diesel         49\n",
       "Others                  45\n",
       "-/- (Fuel)              20\n",
       "Ethanol                  2\n",
       "Hydrogen                 1\n",
       "Name: fuel, dtype: int64"
      ]
     },
     "execution_count": 56,
     "metadata": {},
     "output_type": "execute_result"
    }
   ],
   "source": [
    "GermanCars2[\"fuel\"].value_counts(sort=True)  #counting different types of fuels"
   ]
  },
  {
   "cell_type": "code",
   "execution_count": 58,
   "id": "8cb367bd",
   "metadata": {},
   "outputs": [
    {
     "data": {
      "text/plain": [
       "Manual            28752\n",
       "Automatic         15141\n",
       "Semi-automatic       54\n",
       "Name: gear, dtype: int64"
      ]
     },
     "execution_count": 58,
     "metadata": {},
     "output_type": "execute_result"
    }
   ],
   "source": [
    "GermanCars2[\"gear\"].value_counts(sort=True)  #counting different types of transmission"
   ]
  },
  {
   "cell_type": "code",
   "execution_count": 65,
   "id": "0e5a1f94",
   "metadata": {},
   "outputs": [
    {
     "data": {
      "text/html": [
       "<div>\n",
       "<style scoped>\n",
       "    .dataframe tbody tr th:only-of-type {\n",
       "        vertical-align: middle;\n",
       "    }\n",
       "\n",
       "    .dataframe tbody tr th {\n",
       "        vertical-align: top;\n",
       "    }\n",
       "\n",
       "    .dataframe thead th {\n",
       "        text-align: right;\n",
       "    }\n",
       "</style>\n",
       "<table border=\"1\" class=\"dataframe\">\n",
       "  <thead>\n",
       "    <tr style=\"text-align: right;\">\n",
       "      <th></th>\n",
       "      <th>mileage</th>\n",
       "      <th>price</th>\n",
       "    </tr>\n",
       "    <tr>\n",
       "      <th>fuel</th>\n",
       "      <th></th>\n",
       "      <th></th>\n",
       "    </tr>\n",
       "  </thead>\n",
       "  <tbody>\n",
       "    <tr>\n",
       "      <th>-/- (Fuel)</th>\n",
       "      <td>74904.250000</td>\n",
       "      <td>13064.900000</td>\n",
       "    </tr>\n",
       "    <tr>\n",
       "      <th>CNG</th>\n",
       "      <td>81870.442478</td>\n",
       "      <td>12539.575221</td>\n",
       "    </tr>\n",
       "    <tr>\n",
       "      <th>Diesel</th>\n",
       "      <td>108821.448379</td>\n",
       "      <td>18075.120131</td>\n",
       "    </tr>\n",
       "    <tr>\n",
       "      <th>Electric</th>\n",
       "      <td>21766.264476</td>\n",
       "      <td>23330.940532</td>\n",
       "    </tr>\n",
       "    <tr>\n",
       "      <th>Electric/Diesel</th>\n",
       "      <td>55801.612245</td>\n",
       "      <td>36966.448980</td>\n",
       "    </tr>\n",
       "    <tr>\n",
       "      <th>Electric/Gasoline</th>\n",
       "      <td>28105.293551</td>\n",
       "      <td>30692.186718</td>\n",
       "    </tr>\n",
       "    <tr>\n",
       "      <th>Ethanol</th>\n",
       "      <td>180000.000000</td>\n",
       "      <td>3450.000000</td>\n",
       "    </tr>\n",
       "    <tr>\n",
       "      <th>Gasoline</th>\n",
       "      <td>55442.479593</td>\n",
       "      <td>15031.358915</td>\n",
       "    </tr>\n",
       "    <tr>\n",
       "      <th>Hydrogen</th>\n",
       "      <td>27000.000000</td>\n",
       "      <td>34990.000000</td>\n",
       "    </tr>\n",
       "    <tr>\n",
       "      <th>LPG</th>\n",
       "      <td>96872.174312</td>\n",
       "      <td>11248.119266</td>\n",
       "    </tr>\n",
       "    <tr>\n",
       "      <th>Others</th>\n",
       "      <td>41360.622222</td>\n",
       "      <td>14603.466667</td>\n",
       "    </tr>\n",
       "  </tbody>\n",
       "</table>\n",
       "</div>"
      ],
      "text/plain": [
       "                         mileage         price\n",
       "fuel                                          \n",
       "-/- (Fuel)          74904.250000  13064.900000\n",
       "CNG                 81870.442478  12539.575221\n",
       "Diesel             108821.448379  18075.120131\n",
       "Electric            21766.264476  23330.940532\n",
       "Electric/Diesel     55801.612245  36966.448980\n",
       "Electric/Gasoline   28105.293551  30692.186718\n",
       "Ethanol            180000.000000   3450.000000\n",
       "Gasoline            55442.479593  15031.358915\n",
       "Hydrogen            27000.000000  34990.000000\n",
       "LPG                 96872.174312  11248.119266\n",
       "Others              41360.622222  14603.466667"
      ]
     },
     "execution_count": 65,
     "metadata": {},
     "output_type": "execute_result"
    }
   ],
   "source": [
    "GermanCars2.groupby(\"fuel\")[[\"mileage\",\"price\"]].mean() #Grouping by fuel type for mileage and price"
   ]
  },
  {
   "cell_type": "code",
   "execution_count": 66,
   "id": "e64a5faa",
   "metadata": {},
   "outputs": [],
   "source": [
    "import numpy as np"
   ]
  },
  {
   "cell_type": "code",
   "execution_count": 67,
   "id": "75dc65af",
   "metadata": {},
   "outputs": [
    {
     "data": {
      "text/html": [
       "<div>\n",
       "<style scoped>\n",
       "    .dataframe tbody tr th:only-of-type {\n",
       "        vertical-align: middle;\n",
       "    }\n",
       "\n",
       "    .dataframe tbody tr th {\n",
       "        vertical-align: top;\n",
       "    }\n",
       "\n",
       "    .dataframe thead th {\n",
       "        text-align: right;\n",
       "    }\n",
       "</style>\n",
       "<table border=\"1\" class=\"dataframe\">\n",
       "  <thead>\n",
       "    <tr style=\"text-align: right;\">\n",
       "      <th></th>\n",
       "      <th>hp</th>\n",
       "    </tr>\n",
       "    <tr>\n",
       "      <th>fuel</th>\n",
       "      <th></th>\n",
       "    </tr>\n",
       "  </thead>\n",
       "  <tbody>\n",
       "    <tr>\n",
       "      <th>-/- (Fuel)</th>\n",
       "      <td>129.850000</td>\n",
       "    </tr>\n",
       "    <tr>\n",
       "      <th>CNG</th>\n",
       "      <td>105.513274</td>\n",
       "    </tr>\n",
       "    <tr>\n",
       "      <th>Diesel</th>\n",
       "      <td>152.904931</td>\n",
       "    </tr>\n",
       "    <tr>\n",
       "      <th>Electric</th>\n",
       "      <td>129.070423</td>\n",
       "    </tr>\n",
       "    <tr>\n",
       "      <th>Electric/Diesel</th>\n",
       "      <td>213.918367</td>\n",
       "    </tr>\n",
       "    <tr>\n",
       "      <th>Electric/Gasoline</th>\n",
       "      <td>176.596728</td>\n",
       "    </tr>\n",
       "    <tr>\n",
       "      <th>Ethanol</th>\n",
       "      <td>122.500000</td>\n",
       "    </tr>\n",
       "    <tr>\n",
       "      <th>Gasoline</th>\n",
       "      <td>121.789584</td>\n",
       "    </tr>\n",
       "    <tr>\n",
       "      <th>Hydrogen</th>\n",
       "      <td>154.000000</td>\n",
       "    </tr>\n",
       "    <tr>\n",
       "      <th>LPG</th>\n",
       "      <td>115.798165</td>\n",
       "    </tr>\n",
       "    <tr>\n",
       "      <th>Others</th>\n",
       "      <td>108.466667</td>\n",
       "    </tr>\n",
       "  </tbody>\n",
       "</table>\n",
       "</div>"
      ],
      "text/plain": [
       "                           hp\n",
       "fuel                         \n",
       "-/- (Fuel)         129.850000\n",
       "CNG                105.513274\n",
       "Diesel             152.904931\n",
       "Electric           129.070423\n",
       "Electric/Diesel    213.918367\n",
       "Electric/Gasoline  176.596728\n",
       "Ethanol            122.500000\n",
       "Gasoline           121.789584\n",
       "Hydrogen           154.000000\n",
       "LPG                115.798165\n",
       "Others             108.466667"
      ]
     },
     "execution_count": 67,
     "metadata": {},
     "output_type": "execute_result"
    }
   ],
   "source": [
    "GermanCars2.pivot_table(values=\"hp\",index=\"fuel\")"
   ]
  },
  {
   "cell_type": "code",
   "execution_count": 69,
   "id": "98307481",
   "metadata": {},
   "outputs": [
    {
     "data": {
      "text/html": [
       "<div>\n",
       "<style scoped>\n",
       "    .dataframe tbody tr th:only-of-type {\n",
       "        vertical-align: middle;\n",
       "    }\n",
       "\n",
       "    .dataframe tbody tr th {\n",
       "        vertical-align: top;\n",
       "    }\n",
       "\n",
       "    .dataframe thead th {\n",
       "        text-align: right;\n",
       "    }\n",
       "</style>\n",
       "<table border=\"1\" class=\"dataframe\">\n",
       "  <thead>\n",
       "    <tr style=\"text-align: right;\">\n",
       "      <th></th>\n",
       "      <th>mileage</th>\n",
       "      <th>price</th>\n",
       "    </tr>\n",
       "    <tr>\n",
       "      <th>gear</th>\n",
       "      <th></th>\n",
       "      <th></th>\n",
       "    </tr>\n",
       "  </thead>\n",
       "  <tbody>\n",
       "    <tr>\n",
       "      <th>Automatic</th>\n",
       "      <td>64053.385047</td>\n",
       "      <td>28054.255399</td>\n",
       "    </tr>\n",
       "    <tr>\n",
       "      <th>Manual</th>\n",
       "      <td>76638.950090</td>\n",
       "      <td>10501.882269</td>\n",
       "    </tr>\n",
       "    <tr>\n",
       "      <th>Semi-automatic</th>\n",
       "      <td>84548.388889</td>\n",
       "      <td>8374.796296</td>\n",
       "    </tr>\n",
       "  </tbody>\n",
       "</table>\n",
       "</div>"
      ],
      "text/plain": [
       "                     mileage         price\n",
       "gear                                      \n",
       "Automatic       64053.385047  28054.255399\n",
       "Manual          76638.950090  10501.882269\n",
       "Semi-automatic  84548.388889   8374.796296"
      ]
     },
     "execution_count": 69,
     "metadata": {},
     "output_type": "execute_result"
    }
   ],
   "source": [
    "GermanCars2.pivot_table(values=[\"price\",\"mileage\"],index=\"gear\") #Grouping by pivot table on tranmission type"
   ]
  },
  {
   "cell_type": "code",
   "execution_count": 70,
   "id": "7f34d51b",
   "metadata": {},
   "outputs": [
    {
     "data": {
      "text/html": [
       "<div>\n",
       "<style scoped>\n",
       "    .dataframe tbody tr th:only-of-type {\n",
       "        vertical-align: middle;\n",
       "    }\n",
       "\n",
       "    .dataframe tbody tr th {\n",
       "        vertical-align: top;\n",
       "    }\n",
       "\n",
       "    .dataframe thead th {\n",
       "        text-align: right;\n",
       "    }\n",
       "</style>\n",
       "<table border=\"1\" class=\"dataframe\">\n",
       "  <thead>\n",
       "    <tr style=\"text-align: right;\">\n",
       "      <th></th>\n",
       "      <th>mileage</th>\n",
       "      <th>price</th>\n",
       "    </tr>\n",
       "    <tr>\n",
       "      <th>offerType</th>\n",
       "      <th></th>\n",
       "      <th></th>\n",
       "    </tr>\n",
       "  </thead>\n",
       "  <tbody>\n",
       "    <tr>\n",
       "      <th>Demonstration</th>\n",
       "      <td>7263.502691</td>\n",
       "      <td>35068.531390</td>\n",
       "    </tr>\n",
       "    <tr>\n",
       "      <th>Employee's car</th>\n",
       "      <td>10699.665741</td>\n",
       "      <td>30836.810185</td>\n",
       "    </tr>\n",
       "    <tr>\n",
       "      <th>New</th>\n",
       "      <td>44.000000</td>\n",
       "      <td>74875.363636</td>\n",
       "    </tr>\n",
       "    <tr>\n",
       "      <th>Pre-registered</th>\n",
       "      <td>166.737096</td>\n",
       "      <td>22399.141341</td>\n",
       "    </tr>\n",
       "    <tr>\n",
       "      <th>Used</th>\n",
       "      <td>81701.077192</td>\n",
       "      <td>14743.553290</td>\n",
       "    </tr>\n",
       "  </tbody>\n",
       "</table>\n",
       "</div>"
      ],
      "text/plain": [
       "                     mileage         price\n",
       "offerType                                 \n",
       "Demonstration    7263.502691  35068.531390\n",
       "Employee's car  10699.665741  30836.810185\n",
       "New                44.000000  74875.363636\n",
       "Pre-registered    166.737096  22399.141341\n",
       "Used            81701.077192  14743.553290"
      ]
     },
     "execution_count": 70,
     "metadata": {},
     "output_type": "execute_result"
    }
   ],
   "source": [
    "GermanCars2.pivot_table(values=[\"price\",\"mileage\"],index=\"offerType\") #Grouping by pivot table on offertype"
   ]
  },
  {
   "cell_type": "code",
   "execution_count": null,
   "id": "0bed71e8",
   "metadata": {},
   "outputs": [],
   "source": []
  }
 ],
 "metadata": {
  "kernelspec": {
   "display_name": "Python 3",
   "language": "python",
   "name": "python3"
  },
  "language_info": {
   "codemirror_mode": {
    "name": "ipython",
    "version": 3
   },
   "file_extension": ".py",
   "mimetype": "text/x-python",
   "name": "python",
   "nbconvert_exporter": "python",
   "pygments_lexer": "ipython3",
   "version": "3.8.8"
  }
 },
 "nbformat": 4,
 "nbformat_minor": 5
}
