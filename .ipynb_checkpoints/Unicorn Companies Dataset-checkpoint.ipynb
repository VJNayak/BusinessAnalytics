{
 "cells": [
  {
   "cell_type": "code",
   "execution_count": 1,
   "id": "99f07e71",
   "metadata": {},
   "outputs": [],
   "source": [
    "#Importing data from a flat file (.csv)\n"
   ]
  },
  {
   "cell_type": "code",
   "execution_count": 11,
   "id": "2db9bc2f",
   "metadata": {},
   "outputs": [],
   "source": [
    "import pandas as pd\n",
    "import numpy as np\n",
    "unicorns=pd.read_csv(\"Unicorn_Companies.csv\",index_col=0)"
   ]
  },
  {
   "cell_type": "code",
   "execution_count": 3,
   "id": "5140185d",
   "metadata": {},
   "outputs": [
    {
     "name": "stdout",
     "output_type": "stream",
     "text": [
      "           Valuation ($B) Date Joined        Country           City  \\\n",
      "Company                                                               \n",
      "Bytedance            $140    4/7/2017          China        Beijing   \n",
      "SpaceX             $100.3   12/1/2012  United States      Hawthorne   \n",
      "Stripe                $95   1/23/2014  United States  San Francisco   \n",
      "Klarna              $45.6  12/12/2011         Sweden      Stockholm   \n",
      "Epic Games            $42  10/26/2018  United States           Cary   \n",
      "\n",
      "                           Industry  \\\n",
      "Company                               \n",
      "Bytedance   Artificial intelligence   \n",
      "SpaceX                        Other   \n",
      "Stripe                      Fintech   \n",
      "Klarna                      Fintech   \n",
      "Epic Games                    Other   \n",
      "\n",
      "                                            Select Inverstors Founded Year  \\\n",
      "Company                                                                      \n",
      "Bytedance   Sequoia Capital China, SIG Asia Investments, S...         2012   \n",
      "SpaceX      Founders Fund, Draper Fisher Jurvetson, Rothen...         2002   \n",
      "Stripe            Khosla Ventures, LowercaseCapital, capitalG         2010   \n",
      "Klarna      Institutional Venture Partners, Sequoia Capita...         2005   \n",
      "Epic Games              Tencent Holdings, KKR, Smash Ventures         1991   \n",
      "\n",
      "           Total Raised Financial Stage Investors Count Deal Terms  \\\n",
      "Company                                                              \n",
      "Bytedance        $7.44B             IPO              28          8   \n",
      "SpaceX          $6.874B            None              29         12   \n",
      "Stripe          $2.901B           Asset              39         12   \n",
      "Klarna          $3.472B        Acquired              56         13   \n",
      "Epic Games      $4.377B        Acquired              25          5   \n",
      "\n",
      "           Portfolio Exits  \n",
      "Company                     \n",
      "Bytedance                5  \n",
      "SpaceX                None  \n",
      "Stripe                   1  \n",
      "Klarna                   1  \n",
      "Epic Games               2  \n"
     ]
    }
   ],
   "source": [
    "print(unicorns.head())\n"
   ]
  },
  {
   "cell_type": "code",
   "execution_count": 4,
   "id": "beee62ab",
   "metadata": {},
   "outputs": [
    {
     "ename": "TypeError",
     "evalue": "'tuple' object is not callable",
     "output_type": "error",
     "traceback": [
      "\u001b[1;31m---------------------------------------------------------------------------\u001b[0m",
      "\u001b[1;31mTypeError\u001b[0m                                 Traceback (most recent call last)",
      "\u001b[1;32m<ipython-input-4-0b22b679ee90>\u001b[0m in \u001b[0;36m<module>\u001b[1;34m\u001b[0m\n\u001b[1;32m----> 1\u001b[1;33m \u001b[0municorns\u001b[0m\u001b[1;33m.\u001b[0m\u001b[0mshape\u001b[0m\u001b[1;33m(\u001b[0m\u001b[1;33m)\u001b[0m\u001b[1;33m\u001b[0m\u001b[1;33m\u001b[0m\u001b[0m\n\u001b[0m",
      "\u001b[1;31mTypeError\u001b[0m: 'tuple' object is not callable"
     ]
    }
   ],
   "source": [
    "unicorns.shape()"
   ]
  },
  {
   "cell_type": "code",
   "execution_count": 5,
   "id": "fc1bd458",
   "metadata": {},
   "outputs": [
    {
     "name": "stdout",
     "output_type": "stream",
     "text": [
      "(1037, 12)\n"
     ]
    }
   ],
   "source": [
    "print(unicorns.shape)"
   ]
  },
  {
   "cell_type": "code",
   "execution_count": 6,
   "id": "4eb76e9a",
   "metadata": {},
   "outputs": [],
   "source": [
    "#Importing data from a flat file (.csv) Germany Car Dataset"
   ]
  },
  {
   "cell_type": "code",
   "execution_count": 7,
   "id": "5c2fceab",
   "metadata": {},
   "outputs": [],
   "source": [
    "GermanyCars=pd.read_csv(\"autoscout24-germany-car.csv\",index_col=0)"
   ]
  },
  {
   "cell_type": "code",
   "execution_count": 8,
   "id": "4180941b",
   "metadata": {},
   "outputs": [
    {
     "name": "stdout",
     "output_type": "stream",
     "text": [
      "               make   model      fuel    gear offerType  price     hp  year\n",
      "mileage                                                                    \n",
      "235000          BMW     316    Diesel  Manual      Used   6800  116.0  2011\n",
      "92800    Volkswagen    Golf  Gasoline  Manual      Used   6877  122.0  2011\n",
      "149300         SEAT    Exeo  Gasoline  Manual      Used   6900  160.0  2011\n",
      "96200       Renault  Megane  Gasoline  Manual      Used   6950  110.0  2011\n",
      "156000      Peugeot     308  Gasoline  Manual      Used   6950  156.0  2011\n"
     ]
    }
   ],
   "source": [
    "#Checking the top rows of the data to understand\n",
    "print(GermanyCars.head())"
   ]
  },
  {
   "cell_type": "code",
   "execution_count": 9,
   "id": "d56b5ccc",
   "metadata": {},
   "outputs": [
    {
     "name": "stdout",
     "output_type": "stream",
     "text": [
      "(46405, 8)\n"
     ]
    }
   ],
   "source": [
    "# Checking the columns and rows of the data\n",
    "print(GermanyCars.shape)"
   ]
  },
  {
   "cell_type": "code",
   "execution_count": 10,
   "id": "09f68df3",
   "metadata": {},
   "outputs": [
    {
     "name": "stdout",
     "output_type": "stream",
     "text": [
      "make           0\n",
      "model        143\n",
      "fuel           0\n",
      "gear         182\n",
      "offerType      0\n",
      "price          0\n",
      "hp            29\n",
      "dtype: int64\n"
     ]
    }
   ],
   "source": [
    "# Counting missing values\n",
    "missing_values_count=GermanyCars.isnull().sum()\n",
    "print(missing_values_count[0:7])"
   ]
  },
  {
   "cell_type": "code",
   "execution_count": 12,
   "id": "71f86fa7",
   "metadata": {},
   "outputs": [
    {
     "ename": "NameError",
     "evalue": "name 'droprows' is not defined",
     "output_type": "error",
     "traceback": [
      "\u001b[1;31m---------------------------------------------------------------------------\u001b[0m",
      "\u001b[1;31mNameError\u001b[0m                                 Traceback (most recent call last)",
      "\u001b[1;32m<ipython-input-12-a22de151ff06>\u001b[0m in \u001b[0;36m<module>\u001b[1;34m\u001b[0m\n\u001b[0;32m      1\u001b[0m \u001b[1;31m##Dropping rows where Data is missing\u001b[0m\u001b[1;33m\u001b[0m\u001b[1;33m\u001b[0m\u001b[1;33m\u001b[0m\u001b[0m\n\u001b[0;32m      2\u001b[0m \u001b[0mGermanyCarsDR\u001b[0m\u001b[1;33m=\u001b[0m\u001b[0mGermanyCars\u001b[0m\u001b[1;33m.\u001b[0m\u001b[0mdropna\u001b[0m\u001b[1;33m(\u001b[0m\u001b[1;33m)\u001b[0m\u001b[1;33m\u001b[0m\u001b[1;33m\u001b[0m\u001b[0m\n\u001b[1;32m----> 3\u001b[1;33m \u001b[0mprint\u001b[0m\u001b[1;33m(\u001b[0m\u001b[0mGermanyCars\u001b[0m\u001b[1;33m.\u001b[0m\u001b[0mshape\u001b[0m\u001b[1;33m,\u001b[0m\u001b[0mdroprows\u001b[0m\u001b[1;33m.\u001b[0m\u001b[0mshape\u001b[0m\u001b[1;33m)\u001b[0m\u001b[1;33m\u001b[0m\u001b[1;33m\u001b[0m\u001b[0m\n\u001b[0m",
      "\u001b[1;31mNameError\u001b[0m: name 'droprows' is not defined"
     ]
    }
   ],
   "source": [
    "#Dropping rows where Data is missing \n",
    "GermanyCarsDR=GermanyCars.dropna()\n",
    "print(GermanyCars.shape,droprows.shape)"
   ]
  },
  {
   "cell_type": "code",
   "execution_count": 13,
   "id": "de60340f",
   "metadata": {},
   "outputs": [
    {
     "name": "stdout",
     "output_type": "stream",
     "text": [
      "(46405, 8) (46071, 8)\n"
     ]
    }
   ],
   "source": [
    "GermanyCarsDR=GermanyCars.dropna()\n",
    "print(GermanyCars.shape,GermanyCarsDR.shape)"
   ]
  },
  {
   "cell_type": "code",
   "execution_count": 14,
   "id": "5a173c76",
   "metadata": {},
   "outputs": [
    {
     "name": "stdout",
     "output_type": "stream",
     "text": [
      "(46071, 8)                make   model               fuel    gear       offerType  price  \\\n",
      "mileage                                                                         \n",
      "235000          BMW     316             Diesel  Manual            Used   6800   \n",
      "92800    Volkswagen    Golf           Gasoline  Manual            Used   6877   \n",
      "149300         SEAT    Exeo           Gasoline  Manual            Used   6900   \n",
      "96200       Renault  Megane           Gasoline  Manual            Used   6950   \n",
      "156000      Peugeot     308           Gasoline  Manual            Used   6950   \n",
      "...             ...     ...                ...     ...             ...    ...   \n",
      "10          Citroen      C1           Gasoline  Manual  Pre-registered  12340   \n",
      "99             Fiat     500  Electric/Gasoline  Manual  Pre-registered  12490   \n",
      "550            Fiat     500  Electric/Gasoline  Manual   Demonstration  12805   \n",
      "837            Fiat   Panda  Electric/Gasoline  Manual   Demonstration  12805   \n",
      "1500          Skoda   Fabia           Gasoline  Manual   Demonstration  12980   \n",
      "\n",
      "            hp  year  \n",
      "mileage               \n",
      "235000   116.0  2011  \n",
      "92800    122.0  2011  \n",
      "149300   160.0  2011  \n",
      "96200    110.0  2011  \n",
      "156000   156.0  2011  \n",
      "...        ...   ...  \n",
      "10        72.0  2021  \n",
      "99        71.0  2021  \n",
      "550       69.0  2021  \n",
      "837       69.0  2021  \n",
      "1500      60.0  2021  \n",
      "\n",
      "[41295 rows x 8 columns]\n"
     ]
    }
   ],
   "source": [
    "GermanyCars_drop_duplicates=GermanyCarsDR.drop_duplicates()\n",
    "print(GermanyCarsDR.shape,GermanyCars_drop_duplicates)"
   ]
  },
  {
   "cell_type": "code",
   "execution_count": 15,
   "id": "a1c2f3df",
   "metadata": {},
   "outputs": [
    {
     "name": "stdout",
     "output_type": "stream",
     "text": [
      "              price            hp          year\n",
      "count  4.129500e+04  41295.000000  41295.000000\n",
      "mean   1.686909e+04    135.835307   2015.903305\n",
      "std    1.989230e+04     76.039887      3.122089\n",
      "min    1.100000e+03      1.000000   2011.000000\n",
      "25%    7.500000e+03     90.000000   2013.000000\n",
      "50%    1.125000e+04    120.000000   2016.000000\n",
      "75%    1.995000e+04    150.000000   2019.000000\n",
      "max    1.199900e+06    850.000000   2021.000000\n"
     ]
    }
   ],
   "source": [
    "print(GermanyCars_drop_duplicates.describe())"
   ]
  },
  {
   "cell_type": "code",
   "execution_count": 16,
   "id": "5d11e00c",
   "metadata": {},
   "outputs": [
    {
     "name": "stdout",
     "output_type": "stream",
     "text": [
      "               make   model      fuel    gear offerType  price     hp  year\n",
      "mileage                                                                    \n",
      "235000          BMW     316    Diesel  Manual      Used   6800  116.0  2011\n",
      "92800    Volkswagen    Golf  Gasoline  Manual      Used   6877  122.0  2011\n",
      "149300         SEAT    Exeo  Gasoline  Manual      Used   6900  160.0  2011\n",
      "96200       Renault  Megane  Gasoline  Manual      Used   6950  110.0  2011\n",
      "156000      Peugeot     308  Gasoline  Manual      Used   6950  156.0  2011\n"
     ]
    }
   ],
   "source": [
    "print(GermanyCars_drop_duplicates.head())"
   ]
  },
  {
   "cell_type": "code",
   "execution_count": 17,
   "id": "461d33e1",
   "metadata": {},
   "outputs": [
    {
     "name": "stdout",
     "output_type": "stream",
     "text": [
      "<class 'pandas.core.frame.DataFrame'>\n",
      "Int64Index: 41295 entries, 235000 to 1500\n",
      "Data columns (total 8 columns):\n",
      " #   Column     Non-Null Count  Dtype  \n",
      "---  ------     --------------  -----  \n",
      " 0   make       41295 non-null  object \n",
      " 1   model      41295 non-null  object \n",
      " 2   fuel       41295 non-null  object \n",
      " 3   gear       41295 non-null  object \n",
      " 4   offerType  41295 non-null  object \n",
      " 5   price      41295 non-null  int64  \n",
      " 6   hp         41295 non-null  float64\n",
      " 7   year       41295 non-null  int64  \n",
      "dtypes: float64(1), int64(2), object(5)\n",
      "memory usage: 2.8+ MB\n",
      "None\n"
     ]
    }
   ],
   "source": [
    "print(GermanyCars_drop_duplicates.info())"
   ]
  },
  {
   "cell_type": "code",
   "execution_count": null,
   "id": "10a647f8",
   "metadata": {},
   "outputs": [],
   "source": []
  }
 ],
 "metadata": {
  "kernelspec": {
   "display_name": "Python 3",
   "language": "python",
   "name": "python3"
  },
  "language_info": {
   "codemirror_mode": {
    "name": "ipython",
    "version": 3
   },
   "file_extension": ".py",
   "mimetype": "text/x-python",
   "name": "python",
   "nbconvert_exporter": "python",
   "pygments_lexer": "ipython3",
   "version": "3.8.8"
  }
 },
 "nbformat": 4,
 "nbformat_minor": 5
}
