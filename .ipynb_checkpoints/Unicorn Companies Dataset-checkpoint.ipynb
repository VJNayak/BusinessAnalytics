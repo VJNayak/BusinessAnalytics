{
 "cells": [
  {
   "cell_type": "code",
   "execution_count": 1,
   "id": "99f07e71",
   "metadata": {},
   "outputs": [],
   "source": [
    "#Importing data from a flat file (.csv)\n"
   ]
  },
  {
   "cell_type": "code",
   "execution_count": 2,
   "id": "26a0eadb",
   "metadata": {},
   "outputs": [],
   "source": [
    "import pandas as pd\n",
    "unicorns=pd.read_csv(\"Unicorn_Companies.csv\",index_col=0)"
   ]
  },
  {
   "cell_type": "code",
   "execution_count": 3,
   "id": "fd5b189a",
   "metadata": {},
   "outputs": [
    {
     "name": "stdout",
     "output_type": "stream",
     "text": [
      "           Valuation ($B) Date Joined        Country           City  \\\n",
      "Company                                                               \n",
      "Bytedance            $140    4/7/2017          China        Beijing   \n",
      "SpaceX             $100.3   12/1/2012  United States      Hawthorne   \n",
      "Stripe                $95   1/23/2014  United States  San Francisco   \n",
      "Klarna              $45.6  12/12/2011         Sweden      Stockholm   \n",
      "Epic Games            $42  10/26/2018  United States           Cary   \n",
      "\n",
      "                           Industry  \\\n",
      "Company                               \n",
      "Bytedance   Artificial intelligence   \n",
      "SpaceX                        Other   \n",
      "Stripe                      Fintech   \n",
      "Klarna                      Fintech   \n",
      "Epic Games                    Other   \n",
      "\n",
      "                                            Select Inverstors Founded Year  \\\n",
      "Company                                                                      \n",
      "Bytedance   Sequoia Capital China, SIG Asia Investments, S...         2012   \n",
      "SpaceX      Founders Fund, Draper Fisher Jurvetson, Rothen...         2002   \n",
      "Stripe            Khosla Ventures, LowercaseCapital, capitalG         2010   \n",
      "Klarna      Institutional Venture Partners, Sequoia Capita...         2005   \n",
      "Epic Games              Tencent Holdings, KKR, Smash Ventures         1991   \n",
      "\n",
      "           Total Raised Financial Stage Investors Count Deal Terms  \\\n",
      "Company                                                              \n",
      "Bytedance        $7.44B             IPO              28          8   \n",
      "SpaceX          $6.874B            None              29         12   \n",
      "Stripe          $2.901B           Asset              39         12   \n",
      "Klarna          $3.472B        Acquired              56         13   \n",
      "Epic Games      $4.377B        Acquired              25          5   \n",
      "\n",
      "           Portfolio Exits  \n",
      "Company                     \n",
      "Bytedance                5  \n",
      "SpaceX                None  \n",
      "Stripe                   1  \n",
      "Klarna                   1  \n",
      "Epic Games               2  \n"
     ]
    }
   ],
   "source": [
    "print(unicorns.head())\n"
   ]
  },
  {
   "cell_type": "code",
   "execution_count": 4,
   "id": "24e3f477",
   "metadata": {},
   "outputs": [
    {
     "ename": "TypeError",
     "evalue": "'tuple' object is not callable",
     "output_type": "error",
     "traceback": [
      "\u001b[1;31m---------------------------------------------------------------------------\u001b[0m",
      "\u001b[1;31mTypeError\u001b[0m                                 Traceback (most recent call last)",
      "\u001b[1;32m<ipython-input-4-0b22b679ee90>\u001b[0m in \u001b[0;36m<module>\u001b[1;34m\u001b[0m\n\u001b[1;32m----> 1\u001b[1;33m \u001b[0municorns\u001b[0m\u001b[1;33m.\u001b[0m\u001b[0mshape\u001b[0m\u001b[1;33m(\u001b[0m\u001b[1;33m)\u001b[0m\u001b[1;33m\u001b[0m\u001b[1;33m\u001b[0m\u001b[0m\n\u001b[0m",
      "\u001b[1;31mTypeError\u001b[0m: 'tuple' object is not callable"
     ]
    }
   ],
   "source": [
    "unicorns.shape()"
   ]
  },
  {
   "cell_type": "code",
   "execution_count": 5,
   "id": "c81a38d4",
   "metadata": {},
   "outputs": [
    {
     "name": "stdout",
     "output_type": "stream",
     "text": [
      "(1037, 12)\n"
     ]
    }
   ],
   "source": [
    "print(unicorns.shape)"
   ]
  },
  {
   "cell_type": "code",
   "execution_count": null,
   "id": "99f54f84",
   "metadata": {},
   "outputs": [],
   "source": []
  }
 ],
 "metadata": {
  "kernelspec": {
   "display_name": "Python 3",
   "language": "python",
   "name": "python3"
  },
  "language_info": {
   "codemirror_mode": {
    "name": "ipython",
    "version": 3
   },
   "file_extension": ".py",
   "mimetype": "text/x-python",
   "name": "python",
   "nbconvert_exporter": "python",
   "pygments_lexer": "ipython3",
   "version": "3.8.8"
  }
 },
 "nbformat": 4,
 "nbformat_minor": 5
}
