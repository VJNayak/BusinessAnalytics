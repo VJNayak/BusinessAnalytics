{
 "cells": [
  {
   "cell_type": "code",
   "execution_count": 37,
   "id": "99f07e71",
   "metadata": {},
   "outputs": [],
   "source": [
    "#Importing data from a flat file (.csv)\n"
   ]
  },
  {
   "cell_type": "code",
   "execution_count": 38,
   "id": "c94c5c71",
   "metadata": {},
   "outputs": [],
   "source": [
    "import pandas as pd\n",
    "import numpy as np\n",
    "import matplotlib.pyplot as plt\n",
    "import seaborn as sns\n",
    "import requests"
   ]
  },
  {
   "cell_type": "code",
   "execution_count": 39,
   "id": "10333f44",
   "metadata": {},
   "outputs": [],
   "source": [
    "#Importing data from a flat file (.csv) Germany Car Dataset"
   ]
  },
  {
   "cell_type": "code",
   "execution_count": 40,
   "id": "c9e37cdf",
   "metadata": {},
   "outputs": [],
   "source": [
    "GermanCars=pd.read_csv(\"autoscout24-germany-car.csv\")"
   ]
  },
  {
   "cell_type": "code",
   "execution_count": 41,
   "id": "35bdcffa",
   "metadata": {
    "scrolled": true
   },
   "outputs": [
    {
     "name": "stdout",
     "output_type": "stream",
     "text": [
      "   mileage        make   model      fuel    gear offerType  price     hp  year\n",
      "0   235000         BMW     316    Diesel  Manual      Used   6800  116.0  2011\n",
      "1    92800  Volkswagen    Golf  Gasoline  Manual      Used   6877  122.0  2011\n",
      "2   149300        SEAT    Exeo  Gasoline  Manual      Used   6900  160.0  2011\n",
      "3    96200     Renault  Megane  Gasoline  Manual      Used   6950  110.0  2011\n",
      "4   156000     Peugeot     308  Gasoline  Manual      Used   6950  156.0  2011\n",
      "(46405, 9)\n",
      "<class 'pandas.core.frame.DataFrame'>\n",
      "RangeIndex: 46405 entries, 0 to 46404\n",
      "Data columns (total 9 columns):\n",
      " #   Column     Non-Null Count  Dtype  \n",
      "---  ------     --------------  -----  \n",
      " 0   mileage    46405 non-null  int64  \n",
      " 1   make       46405 non-null  object \n",
      " 2   model      46262 non-null  object \n",
      " 3   fuel       46405 non-null  object \n",
      " 4   gear       46223 non-null  object \n",
      " 5   offerType  46405 non-null  object \n",
      " 6   price      46405 non-null  int64  \n",
      " 7   hp         46376 non-null  float64\n",
      " 8   year       46405 non-null  int64  \n",
      "dtypes: float64(1), int64(3), object(5)\n",
      "memory usage: 3.2+ MB\n",
      "None\n",
      "            mileage         price            hp          year\n",
      "count  4.640500e+04  4.640500e+04  46376.000000  46405.000000\n",
      "mean   7.117786e+04  1.657234e+04    132.990987   2016.012951\n",
      "std    6.262531e+04  1.930470e+04     75.449284      3.155214\n",
      "min    0.000000e+00  1.100000e+03      1.000000   2011.000000\n",
      "25%    1.980000e+04  7.490000e+03     86.000000   2013.000000\n",
      "50%    6.000000e+04  1.099900e+04    116.000000   2016.000000\n",
      "75%    1.050000e+05  1.949000e+04    150.000000   2019.000000\n",
      "max    1.111111e+06  1.199900e+06    850.000000   2021.000000\n"
     ]
    }
   ],
   "source": [
    "#Understanding the data\n",
    "print(GermanCars.head())\n",
    "print(GermanCars.shape)\n",
    "print(GermanCars.info())\n",
    "print(GermanCars.describe())"
   ]
  },
  {
   "cell_type": "code",
   "execution_count": 42,
   "id": "6a254a88",
   "metadata": {
    "scrolled": true
   },
   "outputs": [
    {
     "name": "stdout",
     "output_type": "stream",
     "text": [
      "       mileage     make   model      fuel       gear       offerType  price  \\\n",
      "43263        0   Others     NaN  Electric  Automatic            Used   5999   \n",
      "19433        0  Renault  Twingo  Gasoline     Manual  Pre-registered  10299   \n",
      "11946        0  Renault  Twingo  Gasoline     Manual            Used  10490   \n",
      "19442        0  Renault  Twingo  Gasoline     Manual   Demonstration  10668   \n",
      "19447        0  Renault  Twingo  Gasoline     Manual  Pre-registered  10799   \n",
      "\n",
      "         hp  year  \n",
      "43263   3.0  2019  \n",
      "19433  65.0  2021  \n",
      "11946  69.0  2018  \n",
      "19442  65.0  2021  \n",
      "19447  65.0  2021  \n"
     ]
    }
   ],
   "source": [
    "#Sorting Rows by low mileage low price\n",
    "GermanCars_Sort=GermanCars.sort_values([\"mileage\",\"price\"],ascending=[1,1])\n",
    "print(GermanCars_Sort.head())"
   ]
  },
  {
   "cell_type": "code",
   "execution_count": 43,
   "id": "9d372c26",
   "metadata": {
    "scrolled": true
   },
   "outputs": [
    {
     "name": "stdout",
     "output_type": "stream",
     "text": [
      "         make      fuel  mileage\n",
      "0         BMW    Diesel   235000\n",
      "1  Volkswagen  Gasoline    92800\n",
      "2        SEAT  Gasoline   149300\n",
      "3     Renault  Gasoline    96200\n",
      "4     Peugeot  Gasoline   156000\n"
     ]
    }
   ],
   "source": [
    "#Subsetting the dataframe with only make, fuel and mileage columns\n",
    "GermanCars_SubsetC=GermanCars[[\"make\",\"fuel\",\"mileage\"]]\n",
    "print(GermanCars_SubsetC.head())"
   ]
  },
  {
   "cell_type": "code",
   "execution_count": 44,
   "id": "6ae1d05d",
   "metadata": {},
   "outputs": [
    {
     "name": "stdout",
     "output_type": "stream",
     "text": [
      "      mileage     make model      fuel       gear offerType  price    hp  year\n",
      "313     33000  Renault   ZOE  Electric  Automatic      Used   8495  58.0  2016\n",
      "365      3500   Others   NaN  Electric     Manual      Used   5500  38.0  2018\n",
      "918     20000  Peugeot   iOn  Electric  Automatic      Used   8815  67.0  2016\n",
      "1087    32900  Renault   ZOE  Electric  Automatic      Used   6250  58.0  2014\n",
      "1333    38000  Renault   ZOE  Electric        NaN      Used   8750  88.0  2016\n"
     ]
    }
   ],
   "source": [
    "#Subsetting the dataframe with rows for Electric cars with price tag less than 10000\n",
    "GermanCars_SubsetR=GermanCars[(GermanCars[\"price\"]<10000)&(GermanCars[\"fuel\"]==\"Electric\")]\n",
    "print(GermanCars_SubsetR.head())"
   ]
  },
  {
   "cell_type": "code",
   "execution_count": 45,
   "id": "5de68ff5",
   "metadata": {},
   "outputs": [
    {
     "name": "stdout",
     "output_type": "stream",
     "text": [
      "Gasoline             28864\n",
      "Diesel               15244\n",
      "Electric/Gasoline     1158\n",
      "Electric               758\n",
      "LPG                    126\n",
      "CNG                    117\n",
      "Others                  56\n",
      "Electric/Diesel         53\n",
      "-/- (Fuel)              26\n",
      "Ethanol                  2\n",
      "Hydrogen                 1\n",
      "Name: fuel, dtype: int64\n",
      "Used              40122\n",
      "Pre-registered     2780\n",
      "Demonstration      2368\n",
      "Employee's car     1122\n",
      "New                  13\n",
      "Name: offerType, dtype: int64\n",
      "Volkswagen    6931\n",
      "Opel          4814\n",
      "Ford          4442\n",
      "Skoda         2889\n",
      "Renault       2830\n",
      "Name: make, dtype: int64\n",
      "Manual            30380\n",
      "Automatic         15787\n",
      "Semi-automatic       56\n",
      "Name: gear, dtype: int64\n"
     ]
    }
   ],
   "source": [
    "#Count the number of carsof each fuel type\n",
    "GermanCars_fuel=GermanCars[\"fuel\"].value_counts()\n",
    "GermanCars_type=GermanCars[\"offerType\"].value_counts()\n",
    "GermanCars_make=GermanCars[\"make\"].value_counts()\n",
    "GermanCars_gear=GermanCars[\"gear\"].value_counts()\n",
    "print(GermanCars_fuel)\n",
    "print(GermanCars_type)\n",
    "print(GermanCars_make.head())\n",
    "print(GermanCars_gear)"
   ]
  },
  {
   "cell_type": "code",
   "execution_count": 46,
   "id": "d48c1eab",
   "metadata": {},
   "outputs": [
    {
     "name": "stdout",
     "output_type": "stream",
     "text": [
      "mileage        0\n",
      "make           0\n",
      "model        143\n",
      "fuel           0\n",
      "gear         182\n",
      "offerType      0\n",
      "price          0\n",
      "hp            29\n",
      "dtype: int64\n",
      "gear         0.392199\n",
      "model        0.308156\n",
      "hp           0.062493\n",
      "mileage      0.000000\n",
      "make         0.000000\n",
      "fuel         0.000000\n",
      "offerType    0.000000\n",
      "price        0.000000\n",
      "year         0.000000\n",
      "dtype: float64\n"
     ]
    }
   ],
   "source": [
    "#Counting & checking the percentage of missing values in the data\n",
    "missing_values_count=GermanCars.isnull().sum()\n",
    "print(missing_values_count[0:8])\n",
    "GermanCars_Misspercent=GermanCars.isnull().mean().sort_values(ascending=False)*100\n",
    "print(GermanCars_Misspercent)"
   ]
  },
  {
   "cell_type": "code",
   "execution_count": 47,
   "id": "a5028405",
   "metadata": {},
   "outputs": [
    {
     "name": "stdout",
     "output_type": "stream",
     "text": [
      "(46405, 9) (46071, 9)\n"
     ]
    }
   ],
   "source": [
    "#Dropping the rows with missing values & comparing the shapes\n",
    "GermanCarsDR=GermanCars.dropna()\n",
    "print(GermanCars.shape,GermanCarsDR.shape)"
   ]
  },
  {
   "cell_type": "code",
   "execution_count": 48,
   "id": "4c54a602",
   "metadata": {
    "scrolled": true
   },
   "outputs": [
    {
     "name": "stdout",
     "output_type": "stream",
     "text": [
      "(46071, 9)        mileage        make   model               fuel    gear       offerType  \\\n",
      "0       235000         BMW     316             Diesel  Manual            Used   \n",
      "1        92800  Volkswagen    Golf           Gasoline  Manual            Used   \n",
      "2       149300        SEAT    Exeo           Gasoline  Manual            Used   \n",
      "3        96200     Renault  Megane           Gasoline  Manual            Used   \n",
      "4       156000     Peugeot     308           Gasoline  Manual            Used   \n",
      "...        ...         ...     ...                ...     ...             ...   \n",
      "46394       10     Citroen      C1           Gasoline  Manual  Pre-registered   \n",
      "46396       99        Fiat     500  Electric/Gasoline  Manual  Pre-registered   \n",
      "46397      550        Fiat     500  Electric/Gasoline  Manual   Demonstration   \n",
      "46398      837        Fiat   Panda  Electric/Gasoline  Manual   Demonstration   \n",
      "46399     1500       Skoda   Fabia           Gasoline  Manual   Demonstration   \n",
      "\n",
      "       price     hp  year  \n",
      "0       6800  116.0  2011  \n",
      "1       6877  122.0  2011  \n",
      "2       6900  160.0  2011  \n",
      "3       6950  110.0  2011  \n",
      "4       6950  156.0  2011  \n",
      "...      ...    ...   ...  \n",
      "46394  12340   72.0  2021  \n",
      "46396  12490   71.0  2021  \n",
      "46397  12805   69.0  2021  \n",
      "46398  12805   69.0  2021  \n",
      "46399  12980   60.0  2021  \n",
      "\n",
      "[43947 rows x 9 columns]\n"
     ]
    }
   ],
   "source": [
    "#Dropping Duplicates\n",
    "GermanCars1=GermanCarsDR.drop_duplicates() \n",
    "print(GermanCarsDR.shape,GermanCars1)"
   ]
  },
  {
   "cell_type": "code",
   "execution_count": 49,
   "id": "8bcf830a",
   "metadata": {},
   "outputs": [],
   "source": [
    "#Swapping the year and mileage columns\n",
    "\n",
    "GermanCars2=GermanCars1[[\"year\",\"make\",\"model\",\"fuel\",\"gear\",\"offerType\",\"price\",\"hp\",\"mileage\"]] "
   ]
  },
  {
   "cell_type": "code",
   "execution_count": 50,
   "id": "669390a9",
   "metadata": {},
   "outputs": [
    {
     "name": "stdout",
     "output_type": "stream",
     "text": [
      "   year        make   model      fuel    gear offerType  price     hp  mileage\n",
      "0  2011         BMW     316    Diesel  Manual      Used   6800  116.0   235000\n",
      "1  2011  Volkswagen    Golf  Gasoline  Manual      Used   6877  122.0    92800\n",
      "2  2011        SEAT    Exeo  Gasoline  Manual      Used   6900  160.0   149300\n",
      "3  2011     Renault  Megane  Gasoline  Manual      Used   6950  110.0    96200\n",
      "4  2011     Peugeot     308  Gasoline  Manual      Used   6950  156.0   156000\n"
     ]
    }
   ],
   "source": [
    "print(GermanCars2.head())"
   ]
  },
  {
   "cell_type": "code",
   "execution_count": 51,
   "id": "76efc0e8",
   "metadata": {},
   "outputs": [
    {
     "name": "stdout",
     "output_type": "stream",
     "text": [
      "(43947, 9)\n"
     ]
    }
   ],
   "source": [
    "print(GermanCars2.shape)"
   ]
  },
  {
   "cell_type": "code",
   "execution_count": 52,
   "id": "57da470e",
   "metadata": {},
   "outputs": [
    {
     "name": "stdout",
     "output_type": "stream",
     "text": [
      "71177.86410947096\n"
     ]
    }
   ],
   "source": [
    "print(GermanCars[\"mileage\"].mean())"
   ]
  },
  {
   "cell_type": "code",
   "execution_count": 53,
   "id": "15ef81e5",
   "metadata": {},
   "outputs": [
    {
     "data": {
      "text/plain": [
       "Volkswagen    6680\n",
       "Opel          4576\n",
       "Ford          4245\n",
       "Skoda         2737\n",
       "Renault       2659\n",
       "              ... \n",
       "FISKER           1\n",
       "Alpine           1\n",
       "Brilliance       1\n",
       "Others           1\n",
       "Zhidou           1\n",
       "Name: make, Length: 71, dtype: int64"
      ]
     },
     "execution_count": 53,
     "metadata": {},
     "output_type": "execute_result"
    }
   ],
   "source": [
    "#counting different makes of cars\n",
    "\n",
    "GermanCars2[\"make\"].value_counts(sort=True)  "
   ]
  },
  {
   "cell_type": "code",
   "execution_count": 54,
   "id": "fb3359bc",
   "metadata": {},
   "outputs": [
    {
     "data": {
      "text/plain": [
       "Gasoline             27246\n",
       "Diesel               14684\n",
       "Electric/Gasoline     1039\n",
       "Electric               639\n",
       "CNG                    113\n",
       "LPG                    109\n",
       "Electric/Diesel         49\n",
       "Others                  45\n",
       "-/- (Fuel)              20\n",
       "Ethanol                  2\n",
       "Hydrogen                 1\n",
       "Name: fuel, dtype: int64"
      ]
     },
     "execution_count": 54,
     "metadata": {},
     "output_type": "execute_result"
    }
   ],
   "source": [
    "#counting different types of fuels\n",
    "\n",
    "GermanCars2[\"fuel\"].value_counts(sort=True)  "
   ]
  },
  {
   "cell_type": "code",
   "execution_count": 55,
   "id": "f8e4f89b",
   "metadata": {},
   "outputs": [
    {
     "data": {
      "text/plain": [
       "Manual            28752\n",
       "Automatic         15141\n",
       "Semi-automatic       54\n",
       "Name: gear, dtype: int64"
      ]
     },
     "execution_count": 55,
     "metadata": {},
     "output_type": "execute_result"
    }
   ],
   "source": [
    "#counting different types of transmission\n",
    "\n",
    "GermanCars2[\"gear\"].value_counts(sort=True)  "
   ]
  },
  {
   "cell_type": "code",
   "execution_count": 56,
   "id": "9575ddd5",
   "metadata": {},
   "outputs": [
    {
     "data": {
      "text/html": [
       "<div>\n",
       "<style scoped>\n",
       "    .dataframe tbody tr th:only-of-type {\n",
       "        vertical-align: middle;\n",
       "    }\n",
       "\n",
       "    .dataframe tbody tr th {\n",
       "        vertical-align: top;\n",
       "    }\n",
       "\n",
       "    .dataframe thead th {\n",
       "        text-align: right;\n",
       "    }\n",
       "</style>\n",
       "<table border=\"1\" class=\"dataframe\">\n",
       "  <thead>\n",
       "    <tr style=\"text-align: right;\">\n",
       "      <th></th>\n",
       "      <th>mileage</th>\n",
       "      <th>price</th>\n",
       "    </tr>\n",
       "    <tr>\n",
       "      <th>fuel</th>\n",
       "      <th></th>\n",
       "      <th></th>\n",
       "    </tr>\n",
       "  </thead>\n",
       "  <tbody>\n",
       "    <tr>\n",
       "      <th>-/- (Fuel)</th>\n",
       "      <td>74904.250000</td>\n",
       "      <td>13064.900000</td>\n",
       "    </tr>\n",
       "    <tr>\n",
       "      <th>CNG</th>\n",
       "      <td>81870.442478</td>\n",
       "      <td>12539.575221</td>\n",
       "    </tr>\n",
       "    <tr>\n",
       "      <th>Diesel</th>\n",
       "      <td>108821.448379</td>\n",
       "      <td>18075.120131</td>\n",
       "    </tr>\n",
       "    <tr>\n",
       "      <th>Electric</th>\n",
       "      <td>21766.264476</td>\n",
       "      <td>23330.940532</td>\n",
       "    </tr>\n",
       "    <tr>\n",
       "      <th>Electric/Diesel</th>\n",
       "      <td>55801.612245</td>\n",
       "      <td>36966.448980</td>\n",
       "    </tr>\n",
       "    <tr>\n",
       "      <th>Electric/Gasoline</th>\n",
       "      <td>28105.293551</td>\n",
       "      <td>30692.186718</td>\n",
       "    </tr>\n",
       "    <tr>\n",
       "      <th>Ethanol</th>\n",
       "      <td>180000.000000</td>\n",
       "      <td>3450.000000</td>\n",
       "    </tr>\n",
       "    <tr>\n",
       "      <th>Gasoline</th>\n",
       "      <td>55442.479593</td>\n",
       "      <td>15031.358915</td>\n",
       "    </tr>\n",
       "    <tr>\n",
       "      <th>Hydrogen</th>\n",
       "      <td>27000.000000</td>\n",
       "      <td>34990.000000</td>\n",
       "    </tr>\n",
       "    <tr>\n",
       "      <th>LPG</th>\n",
       "      <td>96872.174312</td>\n",
       "      <td>11248.119266</td>\n",
       "    </tr>\n",
       "    <tr>\n",
       "      <th>Others</th>\n",
       "      <td>41360.622222</td>\n",
       "      <td>14603.466667</td>\n",
       "    </tr>\n",
       "  </tbody>\n",
       "</table>\n",
       "</div>"
      ],
      "text/plain": [
       "                         mileage         price\n",
       "fuel                                          \n",
       "-/- (Fuel)          74904.250000  13064.900000\n",
       "CNG                 81870.442478  12539.575221\n",
       "Diesel             108821.448379  18075.120131\n",
       "Electric            21766.264476  23330.940532\n",
       "Electric/Diesel     55801.612245  36966.448980\n",
       "Electric/Gasoline   28105.293551  30692.186718\n",
       "Ethanol            180000.000000   3450.000000\n",
       "Gasoline            55442.479593  15031.358915\n",
       "Hydrogen            27000.000000  34990.000000\n",
       "LPG                 96872.174312  11248.119266\n",
       "Others              41360.622222  14603.466667"
      ]
     },
     "execution_count": 56,
     "metadata": {},
     "output_type": "execute_result"
    }
   ],
   "source": [
    "#Grouping by fuel type for mileage and price\n",
    "\n",
    "GermanCars2.groupby(\"fuel\")[[\"mileage\",\"price\"]].mean() "
   ]
  },
  {
   "cell_type": "code",
   "execution_count": 57,
   "id": "f789dfa2",
   "metadata": {},
   "outputs": [
    {
     "data": {
      "text/html": [
       "<div>\n",
       "<style scoped>\n",
       "    .dataframe tbody tr th:only-of-type {\n",
       "        vertical-align: middle;\n",
       "    }\n",
       "\n",
       "    .dataframe tbody tr th {\n",
       "        vertical-align: top;\n",
       "    }\n",
       "\n",
       "    .dataframe thead th {\n",
       "        text-align: right;\n",
       "    }\n",
       "</style>\n",
       "<table border=\"1\" class=\"dataframe\">\n",
       "  <thead>\n",
       "    <tr style=\"text-align: right;\">\n",
       "      <th></th>\n",
       "      <th>hp</th>\n",
       "    </tr>\n",
       "    <tr>\n",
       "      <th>fuel</th>\n",
       "      <th></th>\n",
       "    </tr>\n",
       "  </thead>\n",
       "  <tbody>\n",
       "    <tr>\n",
       "      <th>-/- (Fuel)</th>\n",
       "      <td>129.850000</td>\n",
       "    </tr>\n",
       "    <tr>\n",
       "      <th>CNG</th>\n",
       "      <td>105.513274</td>\n",
       "    </tr>\n",
       "    <tr>\n",
       "      <th>Diesel</th>\n",
       "      <td>152.904931</td>\n",
       "    </tr>\n",
       "    <tr>\n",
       "      <th>Electric</th>\n",
       "      <td>129.070423</td>\n",
       "    </tr>\n",
       "    <tr>\n",
       "      <th>Electric/Diesel</th>\n",
       "      <td>213.918367</td>\n",
       "    </tr>\n",
       "    <tr>\n",
       "      <th>Electric/Gasoline</th>\n",
       "      <td>176.596728</td>\n",
       "    </tr>\n",
       "    <tr>\n",
       "      <th>Ethanol</th>\n",
       "      <td>122.500000</td>\n",
       "    </tr>\n",
       "    <tr>\n",
       "      <th>Gasoline</th>\n",
       "      <td>121.789584</td>\n",
       "    </tr>\n",
       "    <tr>\n",
       "      <th>Hydrogen</th>\n",
       "      <td>154.000000</td>\n",
       "    </tr>\n",
       "    <tr>\n",
       "      <th>LPG</th>\n",
       "      <td>115.798165</td>\n",
       "    </tr>\n",
       "    <tr>\n",
       "      <th>Others</th>\n",
       "      <td>108.466667</td>\n",
       "    </tr>\n",
       "  </tbody>\n",
       "</table>\n",
       "</div>"
      ],
      "text/plain": [
       "                           hp\n",
       "fuel                         \n",
       "-/- (Fuel)         129.850000\n",
       "CNG                105.513274\n",
       "Diesel             152.904931\n",
       "Electric           129.070423\n",
       "Electric/Diesel    213.918367\n",
       "Electric/Gasoline  176.596728\n",
       "Ethanol            122.500000\n",
       "Gasoline           121.789584\n",
       "Hydrogen           154.000000\n",
       "LPG                115.798165\n",
       "Others             108.466667"
      ]
     },
     "execution_count": 57,
     "metadata": {},
     "output_type": "execute_result"
    }
   ],
   "source": [
    "GermanCars2.pivot_table(values=\"hp\",index=\"fuel\")"
   ]
  },
  {
   "cell_type": "code",
   "execution_count": 58,
   "id": "4c2208b0",
   "metadata": {},
   "outputs": [
    {
     "data": {
      "text/html": [
       "<div>\n",
       "<style scoped>\n",
       "    .dataframe tbody tr th:only-of-type {\n",
       "        vertical-align: middle;\n",
       "    }\n",
       "\n",
       "    .dataframe tbody tr th {\n",
       "        vertical-align: top;\n",
       "    }\n",
       "\n",
       "    .dataframe thead th {\n",
       "        text-align: right;\n",
       "    }\n",
       "</style>\n",
       "<table border=\"1\" class=\"dataframe\">\n",
       "  <thead>\n",
       "    <tr style=\"text-align: right;\">\n",
       "      <th></th>\n",
       "      <th>mileage</th>\n",
       "      <th>price</th>\n",
       "    </tr>\n",
       "    <tr>\n",
       "      <th>gear</th>\n",
       "      <th></th>\n",
       "      <th></th>\n",
       "    </tr>\n",
       "  </thead>\n",
       "  <tbody>\n",
       "    <tr>\n",
       "      <th>Automatic</th>\n",
       "      <td>64053.385047</td>\n",
       "      <td>28054.255399</td>\n",
       "    </tr>\n",
       "    <tr>\n",
       "      <th>Manual</th>\n",
       "      <td>76638.950090</td>\n",
       "      <td>10501.882269</td>\n",
       "    </tr>\n",
       "    <tr>\n",
       "      <th>Semi-automatic</th>\n",
       "      <td>84548.388889</td>\n",
       "      <td>8374.796296</td>\n",
       "    </tr>\n",
       "  </tbody>\n",
       "</table>\n",
       "</div>"
      ],
      "text/plain": [
       "                     mileage         price\n",
       "gear                                      \n",
       "Automatic       64053.385047  28054.255399\n",
       "Manual          76638.950090  10501.882269\n",
       "Semi-automatic  84548.388889   8374.796296"
      ]
     },
     "execution_count": 58,
     "metadata": {},
     "output_type": "execute_result"
    }
   ],
   "source": [
    "#Grouping by pivot table on tranmission type\n",
    "\n",
    "GermanCars2.pivot_table(values=[\"price\",\"mileage\"],index=\"gear\") "
   ]
  },
  {
   "cell_type": "code",
   "execution_count": 59,
   "id": "6f0994f6",
   "metadata": {},
   "outputs": [
    {
     "data": {
      "text/html": [
       "<div>\n",
       "<style scoped>\n",
       "    .dataframe tbody tr th:only-of-type {\n",
       "        vertical-align: middle;\n",
       "    }\n",
       "\n",
       "    .dataframe tbody tr th {\n",
       "        vertical-align: top;\n",
       "    }\n",
       "\n",
       "    .dataframe thead th {\n",
       "        text-align: right;\n",
       "    }\n",
       "</style>\n",
       "<table border=\"1\" class=\"dataframe\">\n",
       "  <thead>\n",
       "    <tr style=\"text-align: right;\">\n",
       "      <th></th>\n",
       "      <th>mileage</th>\n",
       "      <th>price</th>\n",
       "    </tr>\n",
       "    <tr>\n",
       "      <th>offerType</th>\n",
       "      <th></th>\n",
       "      <th></th>\n",
       "    </tr>\n",
       "  </thead>\n",
       "  <tbody>\n",
       "    <tr>\n",
       "      <th>Demonstration</th>\n",
       "      <td>7263.502691</td>\n",
       "      <td>35068.531390</td>\n",
       "    </tr>\n",
       "    <tr>\n",
       "      <th>Employee's car</th>\n",
       "      <td>10699.665741</td>\n",
       "      <td>30836.810185</td>\n",
       "    </tr>\n",
       "    <tr>\n",
       "      <th>New</th>\n",
       "      <td>44.000000</td>\n",
       "      <td>74875.363636</td>\n",
       "    </tr>\n",
       "    <tr>\n",
       "      <th>Pre-registered</th>\n",
       "      <td>166.737096</td>\n",
       "      <td>22399.141341</td>\n",
       "    </tr>\n",
       "    <tr>\n",
       "      <th>Used</th>\n",
       "      <td>81701.077192</td>\n",
       "      <td>14743.553290</td>\n",
       "    </tr>\n",
       "  </tbody>\n",
       "</table>\n",
       "</div>"
      ],
      "text/plain": [
       "                     mileage         price\n",
       "offerType                                 \n",
       "Demonstration    7263.502691  35068.531390\n",
       "Employee's car  10699.665741  30836.810185\n",
       "New                44.000000  74875.363636\n",
       "Pre-registered    166.737096  22399.141341\n",
       "Used            81701.077192  14743.553290"
      ]
     },
     "execution_count": 59,
     "metadata": {},
     "output_type": "execute_result"
    }
   ],
   "source": [
    "#Grouping by pivot table on offertype\n",
    "\n",
    "GermanCars2.pivot_table(values=[\"price\",\"mileage\"],index=\"offerType\") "
   ]
  },
  {
   "cell_type": "code",
   "execution_count": 60,
   "id": "4a8baed3",
   "metadata": {},
   "outputs": [
    {
     "name": "stdout",
     "output_type": "stream",
     "text": [
      "       year        make         model      fuel       gear       offerType  \\\n",
      "1      2011  Volkswagen          Golf  Gasoline     Manual            Used   \n",
      "3      2011     Renault        Megane  Gasoline     Manual            Used   \n",
      "6      2011     Renault        Scenic    Diesel     Manual            Used   \n",
      "7      2011        Opel        Zafira  Gasoline     Manual            Used   \n",
      "9      2011        Ford       Transit    Diesel     Manual            Used   \n",
      "...     ...         ...           ...       ...        ...             ...   \n",
      "46376  2021     Renault  Grand Scenic  Gasoline     Manual   Demonstration   \n",
      "46377  2021  Volkswagen          Golf    Diesel  Automatic  Pre-registered   \n",
      "46379  2021     Renault        Kadjar  Gasoline     Manual   Demonstration   \n",
      "46381  2021  Volkswagen       T-Cross  Gasoline  Automatic   Demonstration   \n",
      "46399  2021       Skoda         Fabia  Gasoline     Manual   Demonstration   \n",
      "\n",
      "       price     hp  mileage  \n",
      "1       6877  122.0    92800  \n",
      "3       6950  110.0    96200  \n",
      "6       6970  131.0    91894  \n",
      "7       6972  116.0   127500  \n",
      "9       6990   86.0      104  \n",
      "...      ...    ...      ...  \n",
      "46376  32480  158.0     5000  \n",
      "46377  32490  150.0      100  \n",
      "46379  32680  158.0     6000  \n",
      "46381  32880  150.0     4800  \n",
      "46399  12980   60.0     1500  \n",
      "\n",
      "[20897 rows x 9 columns]\n"
     ]
    }
   ],
   "source": [
    "#Indexing\n",
    "\n",
    "TopCars=[\"Volkswagen\",\"Opel\",\"Ford\",\"Skoda\",\"Renault\"]\n",
    "GermanCars2_TopCars=GermanCars2[GermanCars2[\"make\"].isin(TopCars)]\n",
    "print(GermanCars2_TopCars)"
   ]
  },
  {
   "cell_type": "code",
   "execution_count": 61,
   "id": "bbaf9454",
   "metadata": {},
   "outputs": [
    {
     "data": {
      "image/png": "[encoded data removed]",
      "text/plain": [
       "<Figure size 432x288 with 1 Axes>"
      ]
     },
     "metadata": {},
     "output_type": "display_data"
    }
   ],
   "source": [
    "GermanCars2[\"gear\"].value_counts().plot.pie()\n",
    "plt.show()"
   ]
  },
  {
   "cell_type": "code",
   "execution_count": 62,
   "id": "556aeea3",
   "metadata": {},
   "outputs": [
    {
     "name": "stdout",
     "output_type": "stream",
     "text": [
      "Volkswagen       6680\n",
      "Opel             4576\n",
      "Ford             4245\n",
      "Skoda            2737\n",
      "Renault          2659\n",
      "Audi             2547\n",
      "BMW              2357\n",
      "Mercedes-Benz    2265\n",
      "SEAT             1829\n",
      "Hyundai          1737\n",
      "Fiat             1486\n",
      "Peugeot          1173\n",
      "Toyota           1143\n",
      "Kia               948\n",
      "Citroen           918\n",
      "smart             916\n",
      "Volvo             775\n",
      "Nissan            717\n",
      "Mazda             696\n",
      "Dacia             661\n",
      "MINI              459\n",
      "Mitsubishi        387\n",
      "Suzuki            342\n",
      "Porsche           231\n",
      "Chevrolet         213\n",
      "Honda             176\n",
      "Land              163\n",
      "Jeep              146\n",
      "Alfa              128\n",
      "Jaguar            126\n",
      "Name: make, dtype: int64\n"
     ]
    }
   ],
   "source": [
    "GermanCars2_TopMake= (GermanCars2[\"make\"].value_counts(sort=True)).head(30)\n",
    "print(GermanCars2_TopMake)"
   ]
  },
  {
   "cell_type": "code",
   "execution_count": 63,
   "id": "c754172c",
   "metadata": {
    "scrolled": true
   },
   "outputs": [
    {
     "name": "stdout",
     "output_type": "stream",
     "text": [
      "               make\n",
      "Volkswagen     6680\n",
      "Opel           4576\n",
      "Ford           4245\n",
      "Skoda          2737\n",
      "Renault        2659\n",
      "Audi           2547\n",
      "BMW            2357\n",
      "Mercedes-Benz  2265\n",
      "SEAT           1829\n",
      "Hyundai        1737\n",
      "Fiat           1486\n",
      "Peugeot        1173\n",
      "Toyota         1143\n",
      "Kia             948\n",
      "Citroen         918\n",
      "smart           916\n",
      "Volvo           775\n",
      "Nissan          717\n",
      "Mazda           696\n",
      "Dacia           661\n",
      "MINI            459\n",
      "Mitsubishi      387\n",
      "Suzuki          342\n",
      "Porsche         231\n",
      "Chevrolet       213\n",
      "Honda           176\n",
      "Land            163\n",
      "Jeep            146\n",
      "Alfa            128\n",
      "Jaguar          126\n"
     ]
    }
   ],
   "source": [
    "df=pd.DataFrame(GermanCars2_TopMake)\n",
    "li=[]\n",
    "li.append(df)\n",
    "print(li[0])"
   ]
  },
  {
   "cell_type": "code",
   "execution_count": 64,
   "id": "8d0dfe88",
   "metadata": {},
   "outputs": [
    {
     "data": {
      "image/png": "[encoded data removed]",
      "text/plain": [
       "<Figure size 432x288 with 1 Axes>"
      ]
     },
     "metadata": {
      "needs_background": "light"
     },
     "output_type": "display_data"
    }
   ],
   "source": [
    "test=GermanCars2.groupby([\"make\",\"year\"])[\"make\"].count().sort_values(ascending=False).head(100).unstack('year')\n",
    "test.plot(kind=\"bar\",stacked=True)\n",
    "plt.title(\"Cars offered based on Make and Manufacturing Year\")\n",
    "plt.xlabel(\"Manufacturer\")\n",
    "plt.ylabel(\"Number of cars available\")\n",
    "plt.show()"
   ]
  },
  {
   "cell_type": "code",
   "execution_count": 65,
   "id": "ae5c524d",
   "metadata": {},
   "outputs": [
    {
     "data": {
      "image/png": "[encoded data removed]",
      "text/plain": [
       "<Figure size 432x288 with 1 Axes>"
      ]
     },
     "metadata": {
      "needs_background": "light"
     },
     "output_type": "display_data"
    }
   ],
   "source": [
    "fig, ax = plt.subplots()\n",
    "def plot_timeseries(axes, x, y, color, xlabel, ylabel):\n",
    "\n",
    "  # Plot the inputs x,y in the provided color\n",
    "  axes.plot(x, y, color=color)\n",
    "\n",
    "  # Set the x-axis label\n",
    "  axes.set_xlabel(xlabel)\n",
    "\n",
    "  # Set the y-axis label\n",
    "  axes.set_ylabel(ylabel, color=color)\n",
    "    \n",
    "plot_timeseries(ax,GermanCars2[\"year\"],GermanCars2[\"price\"],'blue',\"Year of Manufacture\", \"Price\")    \n",
    "    \n"
   ]
  },
  {
   "cell_type": "code",
   "execution_count": 66,
   "id": "e70a615f",
   "metadata": {},
   "outputs": [
    {
     "data": {
      "image/png": "[encoded data removed]",
      "text/plain": [
       "<Figure size 474.875x360 with 1 Axes>"
      ]
     },
     "metadata": {
      "needs_background": "light"
     },
     "output_type": "display_data"
    }
   ],
   "source": [
    "sns.relplot(x=\"year\", y=\"offerType\", \n",
    "                data=GermanCars2,kind='scatter',size=\"gear\",hue=\"gear\",style=\"gear\")\n",
    "plt.show()"
   ]
  },
  {
   "cell_type": "code",
   "execution_count": 67,
   "id": "3f46b6a1",
   "metadata": {},
   "outputs": [
    {
     "data": {
      "image/png": "[encoded data removed]",
      "text/plain": [
       "<Figure size 360x360 with 1 Axes>"
      ]
     },
     "metadata": {
      "needs_background": "light"
     },
     "output_type": "display_data"
    }
   ],
   "source": [
    "sns.relplot(x=\"year\", y=\"price\", \n",
    "                data=GermanCars2,kind='line',ci=None)\n",
    "plt.show()"
   ]
  },
  {
   "cell_type": "code",
   "execution_count": 68,
   "id": "46f11019",
   "metadata": {},
   "outputs": [
    {
     "data": {
      "text/plain": [
       "<matplotlib.legend.Legend at 0x1e89b54dd00>"
      ]
     },
     "execution_count": 68,
     "metadata": {},
     "output_type": "execute_result"
    },
    {
     "data": {
      "image/png": "[encoded data removed]",
      "text/plain": [
       "<Figure size 432x288 with 1 Axes>"
      ]
     },
     "metadata": {
      "needs_background": "light"
     },
     "output_type": "display_data"
    }
   ],
   "source": [
    "sns.scatterplot(x=\"year\",y='gear',data=GermanCars2,style='offerType',hue='hp',size='hp',legend=\"brief\")\n",
    "plt.legend(bbox_to_anchor=(1.05, 1), loc='upper left', borderaxespad=0)"
   ]
  },
  {
   "cell_type": "markdown",
   "id": "500c941f",
   "metadata": {},
   "source": [
    "# API Import "
   ]
  },
  {
   "cell_type": "code",
   "execution_count": 69,
   "id": "34553d80",
   "metadata": {},
   "outputs": [
    {
     "name": "stdout",
     "output_type": "stream",
     "text": [
      "200\n",
      "\n",
      "<!doctype html>\n",
      "<html>\n",
      "<head>\n",
      "  <meta http-equiv=\"Content-Type\" content=\"text/html; charset=UTF-8\" />\n",
      "  <link rel=\"stylesheet\" type=\"text/css\" href=\"/bootstrap.min.css\" />\n",
      "  <link rel=\"stylesheet\" type=\"text/css\" href=\"/style.css\" />\n",
      "\n",
      "  <title>open-notify.org APIs</title>\n",
      "</head>\n",
      "<body>\n",
      "\n",
      "  <div id=\"wrapper\">\n",
      "  <div id=\"content\">\n",
      "  <div id=\"header\">\n",
      "    <div class=\"container\">\n",
      "      <div class=\"navbar\">\n",
      "        <a class=\"brand\" href=\"http://www.open-notify.org\">Open Notify</a>\n",
      "        <h2>API Server</h2>\n",
      "      </div>\n",
      "    </div>\n",
      "  </div>\n",
      "\n",
      "  <div class=\"container\">\n",
      "    <div class=\"page-header\">\n",
      "      <h3>Current APIs:</h3>\n",
      "    </div>\n",
      "    <div class=\"row\">\n",
      "      <div class=\"span12\">\n",
      "\n",
      "        <h4>JSON</h4>\n",
      "        <p>\n",
      "          <table class=\"table table-bordered table-striped\">\n",
      "            <thead>\n",
      "              <tr>\n",
      "                <th>Name</th>\n",
      "                <th>Description</th>\n",
      "                <th>Documentation</th>\n",
      "              </tr>\n",
      "            </thead> \n",
      "\n",
      "            \n",
      "            <tbody>\n",
      "              <tr>\n",
      "                <td><a href=\"/iss-now.json\">ISS Location Now</a></td>\n",
      "                <td>Current ISS location over Earth (latitude/longitude)</td>\n",
      "                <td><a href=\"http://open-notify.org/Open-Notify-API/ISS-Location-Now\">ISS-Location-Now</a></td>\n",
      "              </tr>\n",
      "            </tbody>\n",
      "\n",
      "            <tbody>\n",
      "              <tr>\n",
      "                <td><a href=\"/astros.json\">People in Space Right Now</a></td>\n",
      "                <td>The number of people in space at this moment. List of names when known.</td>\n",
      "                <td><a href=\"http://open-notify.org/Open-Notify-API/People-In-Space\">People-In-Space</a></td>\n",
      "              </tr>\n",
      "            </tbody>\n",
      "            \n",
      "\n",
      "          </table>\n",
      "        </p>\n",
      "      </div>\n",
      "    </div>\n",
      "\n",
      "    <div class=\"page-header\">\n",
      "      <h3>Depreciation</h3>\n",
      "    </div>\n",
      "    <div class=\"row\">\n",
      "      <div class=\"span12\">\n",
      "        <p>\n",
      "          ISS Pass predictions are now turned off. Real time current ISS location and number of people in space will continue to operate.\n",
      "        </p>\n",
      "      </div>\n",
      "    </div>\n",
      "\n",
      "    <div class=\"page-header\">\n",
      "      <h3>Source Code</h3>\n",
      "    </div>\n",
      "    <div class=\"row\">\n",
      "      <div class=\"span12\">\n",
      "        <p>\n",
      "          Source code for the ISS APIs: <a href=\"https://github.com/open-notify/Open-Notify-API\">github.com/open-notify/Open-Notify-API</a>\n",
      "        </p>\n",
      "      </div>\n",
      "    </div>\n",
      "\n",
      "  </div>\n",
      "  </div>\n",
      "  </div>\n",
      "  \n",
      "  <div id=\"footer\">\n",
      "    <div class=\"container\">\n",
      "      <hr />\n",
      "      Made by <a href=\"https://github.com/natronics\">@natronics</a>\n",
      "    </div>\n",
      "  </div>\n",
      "\n",
      "</body>\n",
      "</html>\n",
      "\n"
     ]
    }
   ],
   "source": [
    "# import requests\n",
    "request=requests.get('http://api.open-notify.org/')\n",
    "print(request.status_code)\n",
    "print(request.text)"
   ]
  },
  {
   "cell_type": "markdown",
   "id": "a0472fe7",
   "metadata": {},
   "source": [
    "# mySQL "
   ]
  },
  {
   "cell_type": "code",
   "execution_count": 70,
   "id": "62c612f4",
   "metadata": {},
   "outputs": [
    {
     "ename": "ModuleNotFoundError",
     "evalue": "No module named 'mysql'",
     "output_type": "error",
     "traceback": [
      "\u001b[1;31m---------------------------------------------------------------------------\u001b[0m",
      "\u001b[1;31mModuleNotFoundError\u001b[0m                       Traceback (most recent call last)",
      "\u001b[1;32m<ipython-input-70-a4bdbaff100d>\u001b[0m in \u001b[0;36m<module>\u001b[1;34m\u001b[0m\n\u001b[1;32m----> 1\u001b[1;33m \u001b[1;32mimport\u001b[0m \u001b[0mmysql\u001b[0m\u001b[1;33m.\u001b[0m\u001b[0mconnector\u001b[0m\u001b[1;33m\u001b[0m\u001b[1;33m\u001b[0m\u001b[0m\n\u001b[0m\u001b[0;32m      2\u001b[0m mydb = mysql.connector.connect(\n\u001b[0;32m      3\u001b[0m     \u001b[0mhost\u001b[0m\u001b[1;33m=\u001b[0m\u001b[1;34m\"localhost\"\u001b[0m\u001b[1;33m,\u001b[0m\u001b[1;33m\u001b[0m\u001b[1;33m\u001b[0m\u001b[0m\n\u001b[0;32m      4\u001b[0m     \u001b[0muser\u001b[0m\u001b[1;33m=\u001b[0m\u001b[1;34m\"root\"\u001b[0m\u001b[1;33m,\u001b[0m\u001b[1;33m\u001b[0m\u001b[1;33m\u001b[0m\u001b[0m\n\u001b[0;32m      5\u001b[0m     \u001b[0mpassword\u001b[0m\u001b[1;33m=\u001b[0m\u001b[1;34m\"password1234\"\u001b[0m\u001b[1;33m,\u001b[0m\u001b[1;33m\u001b[0m\u001b[1;33m\u001b[0m\u001b[0m\n",
      "\u001b[1;31mModuleNotFoundError\u001b[0m: No module named 'mysql'"
     ]
    }
   ],
   "source": [
    "import mysql.connector\n",
    "mydb = mysql.connector.connect(\n",
    "    host=\"localhost\",\n",
    "    user=\"root\",\n",
    "    password=\"password1234\",\n",
    "    database='sys'\n",
    ")\n",
    "mycursor = mydb.cursor()\n",
    "mycursor\n",
    "mycursor.execute(\"Select * from netflix\")\n",
    "\n",
    "myresults = mycursor.fetchall()\n",
    "myresults[0]"
   ]
  },
  {
   "cell_type": "code",
   "execution_count": null,
   "id": "cf37ff96",
   "metadata": {},
   "outputs": [],
   "source": []
  },
  {
   "cell_type": "code",
   "execution_count": null,
   "id": "5a2c7df3",
   "metadata": {},
   "outputs": [],
   "source": []
  }
 ],
 "metadata": {
  "kernelspec": {
   "display_name": "Python 3",
   "language": "python",
   "name": "python3"
  },
  "language_info": {
   "codemirror_mode": {
    "name": "ipython",
    "version": 3
   },
   "file_extension": ".py",
   "mimetype": "text/x-python",
   "name": "python",
   "nbconvert_exporter": "python",
   "pygments_lexer": "ipython3",
   "version": "3.8.8"
  }
 },
 "nbformat": 4,
 "nbformat_minor": 5
}
